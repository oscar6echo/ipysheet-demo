{
 "cells": [
  {
   "cell_type": "code",
   "execution_count": null,
   "metadata": {},
   "outputs": [],
   "source": [
    "import ipysheet\n",
    "import ipywidgets as widgets"
   ]
  },
  {
   "cell_type": "markdown",
   "metadata": {},
   "source": [
    "## Sheet 1"
   ]
  },
  {
   "cell_type": "code",
   "execution_count": null,
   "metadata": {},
   "outputs": [],
   "source": [
    "# create a sheet\n",
    "sheet1 = ipysheet.sheet(rows=3, columns=4, row_headers=True)\n",
    "# and 'print' it out, or use IPython.display.display(sheet)\n",
    "sheet1"
   ]
  },
  {
   "cell_type": "code",
   "execution_count": null,
   "metadata": {},
   "outputs": [],
   "source": [
    "# the sheets appearence can be changed\n",
    "sheet1.stretch_headers = 'none'\n",
    "sheet1.column_width = [100, 200]"
   ]
  },
  {
   "cell_type": "code",
   "execution_count": null,
   "metadata": {},
   "outputs": [],
   "source": [
    "sheet1.column_width = None"
   ]
  },
  {
   "cell_type": "code",
   "execution_count": null,
   "metadata": {},
   "outputs": [],
   "source": [
    "sheet1.column_headers = ['0', '1', '2', 'xyz']\n",
    "sheet1.row_headers = ['x', 'y', '']"
   ]
  },
  {
   "cell_type": "code",
   "execution_count": null,
   "metadata": {},
   "outputs": [],
   "source": [
    "# a cell refers to a particular cell in the sheet\n",
    "cell = ipysheet.cell(0, 0, 'hello', backgroundColor='orange')"
   ]
  },
  {
   "cell_type": "code",
   "execution_count": null,
   "metadata": {},
   "outputs": [],
   "source": [
    "# changing its value, the sheet will be updated\n",
    "cell.value = 20"
   ]
  },
  {
   "cell_type": "code",
   "execution_count": null,
   "metadata": {},
   "outputs": [],
   "source": [
    "# Handsontable's type, sets the renderer, validator, etc\n",
    "cell.type = 'numeric'"
   ]
  },
  {
   "cell_type": "code",
   "execution_count": null,
   "metadata": {},
   "outputs": [],
   "source": [
    "# For numerical type, the format can be usefull\n",
    "cell.format = '0.000'"
   ]
  },
  {
   "cell_type": "code",
   "execution_count": null,
   "metadata": {},
   "outputs": [],
   "source": [
    "cell.value = 10.123"
   ]
  },
  {
   "cell_type": "code",
   "execution_count": null,
   "metadata": {},
   "outputs": [],
   "source": [
    "# Using the ipywidget's (rather traitlets) observe method, we can \n",
    "# listen to changes in one cell, and set another cell's value\n",
    "cell2 = ipysheet.cell(0, 1, 888, type='numeric', read_only=True)\n",
    "def changed(change):\n",
    "    print(\"changed from\", change.old, \"to\", change.new)\n",
    "    cell2.value = cell.value * 2\n",
    "cell.observe(changed, 'value')"
   ]
  },
  {
   "cell_type": "code",
   "execution_count": null,
   "metadata": {},
   "outputs": [],
   "source": [
    "cell.value = 20"
   ]
  },
  {
   "cell_type": "code",
   "execution_count": null,
   "metadata": {},
   "outputs": [],
   "source": [
    "cell.value = 1"
   ]
  },
  {
   "cell_type": "code",
   "execution_count": null,
   "metadata": {},
   "outputs": [],
   "source": [
    "# a sheet can have multiple views\n",
    "sheet1"
   ]
  },
  {
   "cell_type": "code",
   "execution_count": null,
   "metadata": {},
   "outputs": [],
   "source": [
    "cell3 = ipysheet.cell(0, 2, True, type='checkbox', style={'textAlign': 'center'})"
   ]
  },
  {
   "cell_type": "code",
   "execution_count": null,
   "metadata": {},
   "outputs": [],
   "source": [
    "cell3.value"
   ]
  },
  {
   "cell_type": "code",
   "execution_count": null,
   "metadata": {},
   "outputs": [],
   "source": [
    "cell3.value = False"
   ]
  },
  {
   "cell_type": "code",
   "execution_count": null,
   "metadata": {},
   "outputs": [],
   "source": [
    "# Using the style attribute, we can change the css properties\n",
    "# This may change for phase 2\n",
    "cell.style = {'backgroundColor': 'lightblue', 'fontWeight':'bold'}"
   ]
  },
  {
   "cell_type": "code",
   "execution_count": null,
   "metadata": {},
   "outputs": [],
   "source": [
    "cell.value"
   ]
  },
  {
   "cell_type": "code",
   "execution_count": null,
   "metadata": {},
   "outputs": [],
   "source": [
    "sheet1.column_headers = False"
   ]
  },
  {
   "cell_type": "markdown",
   "metadata": {},
   "source": [
    "## Sheet 2"
   ]
  },
  {
   "cell_type": "code",
   "execution_count": null,
   "metadata": {},
   "outputs": [],
   "source": [
    "# a new sheet\n",
    "sheet2 = ipysheet.sheet(rows=3, columns=2, row_headers=False, column_headers=False)\n",
    "sheet2.stretch_headers = 'none'\n",
    "sheet2.column_width = [100, 150]\n",
    "\n",
    "a = ipysheet.cell(0,1, 2, color='green', label_left='a')\n",
    "b = ipysheet.cell(1,1, 3, color='blue', label_left='b')\n",
    "c = ipysheet.cell(2,1, 99, backgroundColor='salmon', label_left='sum')\n",
    "\n",
    "# using the calculation decorator, it's easier to connect input and output\n",
    "# cells\n",
    "@ipysheet.calculation(inputs=[a,b], output=c)\n",
    "def sum(a, b):\n",
    "    return a+b\n",
    "sheet2"
   ]
  },
  {
   "cell_type": "code",
   "execution_count": null,
   "metadata": {},
   "outputs": [],
   "source": [
    "# since cells are widgets, we can use jslink to link a slider to a cell value\n",
    "slider = widgets.FloatSlider()\n",
    "widgets.jslink((b, 'value'), (slider, 'value'))\n",
    "slider"
   ]
  },
  {
   "cell_type": "markdown",
   "metadata": {},
   "source": [
    "## Sheet 3"
   ]
  },
  {
   "cell_type": "code",
   "execution_count": null,
   "metadata": {},
   "outputs": [],
   "source": [
    "# another example setting up a sheet programmatically\n",
    "N_years = 10\n",
    "sheet3 = ipysheet.sheet(rows=N_years+3, columns=2, stretch_headers='none')\n",
    "interest = ipysheet.cell(0, 1, 2., label_left='interest(%):')\n",
    "amount = ipysheet.cell(1, 1, 100., label_left='amount(EUR):')\n",
    "\n",
    "savings_cells = []\n",
    "for i in range(N_years):\n",
    "    ipysheet.cell(i+3, 0, \"year %s\" % (i+1))\n",
    "    savings_cell = ipysheet.cell(i+3, 1, 0.)\n",
    "    savings_cells.append(savings_cell)\n",
    "\n",
    "sheet3"
   ]
  },
  {
   "cell_type": "code",
   "execution_count": null,
   "metadata": {},
   "outputs": [],
   "source": [
    "# and connecting a calculation to it\n",
    "def calculate_savings(change=None):\n",
    "    value = amount.value\n",
    "    factor = (1+interest.value/100.)\n",
    "    for i in range(N_years):\n",
    "        value = value * factor\n",
    "        savings_cells[i].value = value\n",
    "calculate_savings()\n",
    "interest.observe(calculate_savings, \"value\")\n",
    "amount.observe(calculate_savings, \"value\")"
   ]
  },
  {
   "cell_type": "code",
   "execution_count": null,
   "metadata": {},
   "outputs": [],
   "source": []
  }
 ],
 "metadata": {
  "kernelspec": {
   "display_name": "Python 3",
   "language": "python",
   "name": "python3"
  },
  "language_info": {
   "codemirror_mode": {
    "name": "ipython",
    "version": 3
   },
   "file_extension": ".py",
   "mimetype": "text/x-python",
   "name": "python",
   "nbconvert_exporter": "python",
   "pygments_lexer": "ipython3",
   "version": "3.6.3"
  },
  "widgets": {
   "application/vnd.jupyter.widget-state+json": {
    "state": {
     "01b555ffb2294d909d0b6a09dcec0be3": {
      "model_module": "ipysheet",
      "model_module_version": "^0.1.0",
      "model_name": "CellModel",
      "state": {
       "_model_module_version": "^0.1.0",
       "_view_module": null,
       "_view_module_version": "",
       "column": 0,
       "format": "0.000",
       "row": 0,
       "style": {
        "backgroundColor": "orange"
       },
       "type": "numeric",
       "value": 10.123
      }
     },
     "029db86c57cf4a22b7a0ce2874435140": {
      "model_module": "@jupyter-widgets/base",
      "model_module_version": "1.0.0",
      "model_name": "LayoutModel",
      "state": {}
     },
     "02a00fec27f04b269e29bdab3dd7ece3": {
      "model_module": "ipysheet",
      "model_module_version": "^0.1.0",
      "model_name": "CellModel",
      "state": {
       "_model_module_version": "^0.1.0",
       "_view_module": null,
       "_view_module_version": "",
       "row": 0,
       "style": {
        "color": "green"
       },
       "type": "numeric",
       "value": 2
      }
     },
     "02ab59c8658944669b69dc68bcce2b6b": {
      "model_module": "ipysheet",
      "model_module_version": "^0.1.0",
      "model_name": "CellModel",
      "state": {
       "_model_module_version": "^0.1.0",
       "_view_module": null,
       "_view_module_version": "",
       "style": {
        "color": "blue"
       },
       "type": "numeric",
       "value": 3
      }
     },
     "030bd2f6c5a34d99be4fcc777941ef4c": {
      "model_module": "@jupyter-widgets/base",
      "model_module_version": "1.0.0",
      "model_name": "LayoutModel",
      "state": {}
     },
     "064d775f1c824bca9023e7c079ad5ace": {
      "model_module": "@jupyter-widgets/base",
      "model_module_version": "1.0.0",
      "model_name": "LayoutModel",
      "state": {}
     },
     "0a467f8f138243b7b36e51398bd32852": {
      "model_module": "ipysheet",
      "model_module_version": "^0.1.0",
      "model_name": "CellModel",
      "state": {
       "_model_module_version": "^0.1.0",
       "_view_module": null,
       "_view_module_version": "",
       "column": 0,
       "style": {
        "fontWeight": "bold"
       },
       "type": "text",
       "value": "amount(EUR):"
      }
     },
     "0bed0448e5824ff0aef6fa44519ad0d4": {
      "model_module": "ipysheet",
      "model_module_version": "^0.1.0",
      "model_name": "CellModel",
      "state": {
       "_model_module_version": "^0.1.0",
       "_view_module": null,
       "_view_module_version": "",
       "row": 2,
       "style": {
        "backgroundColor": "orange"
       },
       "type": "numeric",
       "value": 61
      }
     },
     "0bfa30c654c64d3db6d08f2d88876a50": {
      "model_module": "@jupyter-widgets/controls",
      "model_module_version": "1.1.0",
      "model_name": "FloatSliderModel",
      "state": {
       "layout": "IPY_MODEL_3b5b01182af24f90a6f3a7b4b0d408b7",
       "step": 0.1,
       "style": "IPY_MODEL_207912f4708c42d596ce58e39379042a",
       "value": 56
      }
     },
     "0c9d8c9e805e4ef0ade9cb96e9c82d61": {
      "model_module": "ipysheet",
      "model_module_version": "^0.1.0",
      "model_name": "CellModel",
      "state": {
       "_model_module_version": "^0.1.0",
       "_view_module": null,
       "_view_module_version": "",
       "column": 0,
       "row": 5,
       "type": "text",
       "value": "year 3"
      }
     },
     "0e6b547c56ea4d34a0e0c7fe5570705c": {
      "model_module": "ipysheet",
      "model_module_version": "^0.1.0",
      "model_name": "CellModel",
      "state": {
       "_model_module_version": "^0.1.0",
       "_view_module": null,
       "_view_module_version": "",
       "column": 0,
       "row": 8,
       "type": "text",
       "value": "year 6"
      }
     },
     "0fd7c6240cc441f197b801c770c98fff": {
      "model_module": "@jupyter-widgets/base",
      "model_module_version": "1.0.0",
      "model_name": "LayoutModel",
      "state": {}
     },
     "10179954763a404dbb95ff8798097938": {
      "model_module": "@jupyter-widgets/base",
      "model_module_version": "1.0.0",
      "model_name": "LayoutModel",
      "state": {}
     },
     "1269cc419de647c69a48af93bec455fd": {
      "model_module": "ipysheet",
      "model_module_version": "^0.1.0",
      "model_name": "CellModel",
      "state": {
       "_model_module_version": "^0.1.0",
       "_view_module": null,
       "_view_module_version": "",
       "column": 0,
       "style": {
        "fontWeight": "bold"
       },
       "type": "text",
       "value": "b"
      }
     },
     "1425ed57af5645749b39a86da9f631dd": {
      "model_module": "@jupyter-widgets/base",
      "model_module_version": "1.0.0",
      "model_name": "LayoutModel",
      "state": {}
     },
     "1457cd5049f24d0f91f8d1109bf187cb": {
      "model_module": "ipysheet",
      "model_module_version": "^0.1.0",
      "model_name": "CellModel",
      "state": {
       "_model_module_version": "^0.1.0",
       "_view_module": null,
       "_view_module_version": "",
       "column": 0,
       "row": 2,
       "style": {
        "fontWeight": "bold"
       },
       "type": "text",
       "value": "sum"
      }
     },
     "149a5d7cb5234b3a9ab5f677c02d68f3": {
      "model_module": "ipysheet",
      "model_module_version": "^0.1.0",
      "model_name": "CellModel",
      "state": {
       "_model_module_version": "^0.1.0",
       "_view_module": null,
       "_view_module_version": "",
       "column": 0,
       "row": 0,
       "style": {
        "fontWeight": "bold"
       },
       "type": "text",
       "value": "a"
      }
     },
     "150c7b42a4794cfaa38c57053697a52d": {
      "model_module": "ipysheet",
      "model_module_version": "^0.1.0",
      "model_name": "CellModel",
      "state": {
       "_model_module_version": "^0.1.0",
       "_view_module": null,
       "_view_module_version": "",
       "row": 10,
       "type": "numeric",
       "value": 117.16593810022657
      }
     },
     "152253b5b6a64c1d9e6457f5ec264f03": {
      "model_module": "ipysheet",
      "model_module_version": "^0.1.0",
      "model_name": "CellModel",
      "state": {
       "_model_module_version": "^0.1.0",
       "_view_module": null,
       "_view_module_version": "",
       "column": 0,
       "format": "0.000",
       "row": 0,
       "style": {
        "backgroundColor": "orange"
       },
       "type": "numeric",
       "value": 10.123
      }
     },
     "18265c03ce0d437a9ea304d22f9bbb91": {
      "model_module": "ipysheet",
      "model_module_version": "^0.1.0",
      "model_name": "CellModel",
      "state": {
       "_model_module_version": "^0.1.0",
       "_view_module": null,
       "_view_module_version": "",
       "style": {
        "color": "blue"
       },
       "type": "numeric",
       "value": 3
      }
     },
     "18de5a289e6241b2b505316497df989a": {
      "model_module": "ipysheet",
      "model_module_version": "^0.1.0",
      "model_name": "CellModel",
      "state": {
       "_model_module_version": "^0.1.0",
       "_view_module": null,
       "_view_module_version": "",
       "column": 0,
       "read_only": true,
       "type": "numeric",
       "value": 888
      }
     },
     "1a3b3c18c06645b8938e7eeba64142c1": {
      "model_module": "ipysheet",
      "model_module_version": "^0.1.0",
      "model_name": "CellModel",
      "state": {
       "_model_module_version": "^0.1.0",
       "_view_module": null,
       "_view_module_version": "",
       "column": 0,
       "row": 0,
       "style": {
        "fontWeight": "bold"
       },
       "type": "text",
       "value": "a"
      }
     },
     "1abd7cc254d9466188af56bbbb9c4414": {
      "model_module": "ipysheet",
      "model_module_version": "^0.1.0",
      "model_name": "CellModel",
      "state": {
       "_model_module_version": "^0.1.0",
       "_view_module": null,
       "_view_module_version": "",
       "style": {
        "color": "blue"
       },
       "type": "numeric",
       "value": 3
      }
     },
     "1b567cf96bba4a769ac197742a5c198e": {
      "model_module": "ipysheet",
      "model_module_version": "^0.1.0",
      "model_name": "CellModel",
      "state": {
       "_model_module_version": "^0.1.0",
       "_view_module": null,
       "_view_module_version": "",
       "column": 0,
       "row": 4,
       "type": "text",
       "value": "year 2"
      }
     },
     "1d3169bc8dd54d91bac58fda78a84065": {
      "model_module": "ipysheet",
      "model_module_version": "^0.1.0",
      "model_name": "CellModel",
      "state": {
       "_model_module_version": "^0.1.0",
       "_view_module": null,
       "_view_module_version": "",
       "row": 2,
       "style": {
        "backgroundColor": "orange"
       },
       "type": "numeric",
       "value": 5
      }
     },
     "1e6f239a4cc34d349a0650c039de7fda": {
      "model_module": "ipysheet",
      "model_module_version": "^0.1.0",
      "model_name": "CellModel",
      "state": {
       "_model_module_version": "^0.1.0",
       "_view_module": null,
       "_view_module_version": "",
       "row": 8,
       "type": "numeric",
       "value": 112.61624192640001
      }
     },
     "1f0754bb3ac84535944201726a01e54f": {
      "model_module": "ipysheet",
      "model_module_version": "^0.1.0",
      "model_name": "CellModel",
      "state": {
       "_model_module_version": "^0.1.0",
       "_view_module": null,
       "_view_module_version": "",
       "column": 0,
       "row": 0,
       "style": {
        "fontWeight": "bold"
       },
       "type": "text",
       "value": "interest(%):"
      }
     },
     "1f9e602a30af40a79ab81c7d75425b9e": {
      "model_module": "ipysheet",
      "model_module_version": "^0.1.0",
      "model_name": "CellModel",
      "state": {
       "_model_module_version": "^0.1.0",
       "_view_module": null,
       "_view_module_version": "",
       "row": 2,
       "style": {
        "backgroundColor": "salmon"
       },
       "type": "numeric",
       "value": 43.4
      }
     },
     "207912f4708c42d596ce58e39379042a": {
      "model_module": "@jupyter-widgets/controls",
      "model_module_version": "1.1.0",
      "model_name": "SliderStyleModel",
      "state": {
       "description_width": ""
      }
     },
     "2096b2dc06d241fea2b9b06b3017e7d5": {
      "model_module": "ipysheet",
      "model_module_version": "^0.1.0",
      "model_name": "CellModel",
      "state": {
       "_model_module_version": "^0.1.0",
       "_view_module": null,
       "_view_module_version": "",
       "style": {
        "color": "blue"
       },
       "type": "numeric",
       "value": 3
      }
     },
     "21406b2de6ed4a01ba53f4b9bdcaa6e7": {
      "model_module": "@jupyter-widgets/controls",
      "model_module_version": "1.1.0",
      "model_name": "LinkModel",
      "state": {
       "source": [
        "IPY_MODEL_83423438f6324ba48272cc98dab13273",
        "value"
       ],
       "target": [
        "IPY_MODEL_0bfa30c654c64d3db6d08f2d88876a50",
        "value"
       ]
      }
     },
     "21f038f33b744c86858d5e214386c1dc": {
      "model_module": "ipysheet",
      "model_module_version": "^0.1.0",
      "model_name": "SheetModel",
      "state": {
       "_model_module_version": "^0.1.0",
       "_view_module_version": "^0.1.0",
       "cells": [
        "IPY_MODEL_fff2ccfbf01c4af8bbefdfc0316bf42d",
        "IPY_MODEL_38d03ad145714efcbc0e3f212fffef15",
        "IPY_MODEL_2675c33b463346d29ca265096e8fca3e"
       ],
       "column_headers": false,
       "data": [
        [
         {
          "options": {
           "format": "0.000",
           "readOnly": false,
           "renderer": null,
           "source": null,
           "style": {
            "backgroundColor": "lightblue",
            "fontWeight": "bold"
           },
           "type": "numeric"
          },
          "value": 1
         },
         {
          "options": {
           "format": "0.[000]",
           "readOnly": true,
           "renderer": null,
           "source": null,
           "style": {},
           "type": "numeric"
          },
          "value": 2
         },
         {
          "options": {
           "format": "0.[000]",
           "readOnly": false,
           "renderer": null,
           "source": null,
           "style": {
            "textAlign": "center"
           },
           "type": "checkbox"
          },
          "value": false
         },
         {
          "options": {},
          "value": null
         }
        ],
        [
         {
          "options": {},
          "value": null
         },
         {
          "options": {},
          "value": null
         },
         {
          "options": {},
          "value": null
         },
         {
          "options": {},
          "value": null
         }
        ],
        [
         {
          "options": {},
          "value": null
         },
         {
          "options": {},
          "value": null
         },
         {
          "options": {},
          "value": null
         },
         {
          "options": {},
          "value": null
         }
        ]
       ],
       "layout": "IPY_MODEL_dbd9b2eecf194606aaa505e3d83a4ee0",
       "row_headers": [
        "x",
        "y",
        ""
       ],
       "stretch_headers": "none"
      }
     },
     "2406cd6316fd4b5aa8aa6f4c57bf240f": {
      "model_module": "ipysheet",
      "model_module_version": "^0.1.0",
      "model_name": "SheetModel",
      "state": {
       "_model_module_version": "^0.1.0",
       "_view_module_version": "^0.1.0",
       "cells": [
        "IPY_MODEL_bf96effaea9643188f749fdade7032bb",
        "IPY_MODEL_149a5d7cb5234b3a9ab5f677c02d68f3",
        "IPY_MODEL_beb0104ffc1940dda5ef265ef1089c62",
        "IPY_MODEL_d5c467a4a0d14a0d9b4916d6720828f3",
        "IPY_MODEL_2b3a936446e741178603e3b79b1fd64e",
        "IPY_MODEL_7d702ab507f84f7085e522d36b0440b0"
       ],
       "column_headers": false,
       "column_width": [
        100,
        150
       ],
       "columns": 2,
       "data": [
        [
         {
          "options": {
           "format": "0.[000]",
           "readOnly": false,
           "renderer": null,
           "source": null,
           "style": {
            "fontWeight": "bold"
           },
           "type": "text"
          },
          "value": "a"
         },
         {
          "options": {
           "format": "0.[000]",
           "readOnly": false,
           "renderer": null,
           "source": null,
           "style": {
            "color": "green"
           },
           "type": "numeric"
          },
          "value": 2
         }
        ],
        [
         {
          "options": {
           "format": "0.[000]",
           "readOnly": false,
           "renderer": null,
           "source": null,
           "style": {
            "fontWeight": "bold"
           },
           "type": "text"
          },
          "value": "b"
         },
         {
          "options": {
           "format": "0.[000]",
           "readOnly": false,
           "renderer": null,
           "source": null,
           "style": {
            "color": "blue"
           },
           "type": "numeric"
          },
          "value": 35.1
         }
        ],
        [
         {
          "options": {
           "format": "0.[000]",
           "readOnly": false,
           "renderer": null,
           "source": null,
           "style": {
            "fontWeight": "bold"
           },
           "type": "text"
          },
          "value": "sum"
         },
         {
          "options": {
           "format": "0.[000]",
           "readOnly": false,
           "renderer": null,
           "source": null,
           "style": {
            "backgroundColor": "salmon"
           },
           "type": "numeric"
          },
          "value": 37.1
         }
        ]
       ],
       "layout": "IPY_MODEL_948188deaa2d48cbafe5cff51f2cf19e",
       "row_headers": false,
       "stretch_headers": "none"
      }
     },
     "25763f14fdbf417d9033cbf29dff33c1": {
      "model_module": "ipysheet",
      "model_module_version": "^0.1.0",
      "model_name": "CellModel",
      "state": {
       "_model_module_version": "^0.1.0",
       "_view_module": null,
       "_view_module_version": "",
       "row": 4,
       "type": "numeric",
       "value": 108.16
      }
     },
     "261a11be8a0b4003ba3016c80daa2ba7": {
      "model_module": "ipysheet",
      "model_module_version": "^0.1.0",
      "model_name": "CellModel",
      "state": {
       "_model_module_version": "^0.1.0",
       "_view_module": null,
       "_view_module_version": "",
       "row": 0,
       "style": {
        "color": "green"
       },
       "type": "numeric",
       "value": 5
      }
     },
     "2624b0df99a141e5a7eaec993b04bdcc": {
      "model_module": "ipysheet",
      "model_module_version": "^0.1.0",
      "model_name": "CellModel",
      "state": {
       "_model_module_version": "^0.1.0",
       "_view_module": null,
       "_view_module_version": "",
       "column": 0,
       "style": {
        "fontWeight": "bold"
       },
       "type": "text",
       "value": "b"
      }
     },
     "2675c33b463346d29ca265096e8fca3e": {
      "model_module": "ipysheet",
      "model_module_version": "^0.1.0",
      "model_name": "CellModel",
      "state": {
       "_model_module_version": "^0.1.0",
       "_view_module": null,
       "_view_module_version": "",
       "column": 2,
       "row": 0,
       "style": {
        "textAlign": "center"
       },
       "type": "checkbox",
       "value": false
      }
     },
     "26cab17d9baa405da3ce1c0cbaf9fac7": {
      "model_module": "@jupyter-widgets/base",
      "model_module_version": "1.0.0",
      "model_name": "LayoutModel",
      "state": {}
     },
     "284ac0fce91f469793cc647c09aa7e51": {
      "model_module": "ipysheet",
      "model_module_version": "^0.1.0",
      "model_name": "SheetModel",
      "state": {
       "_model_module_version": "^0.1.0",
       "_view_module_version": "^0.1.0",
       "cells": [
        "IPY_MODEL_bb9949df3bb846469dcb0f93622efd60",
        "IPY_MODEL_18de5a289e6241b2b505316497df989a",
        "IPY_MODEL_92f2a602c47f422a9cc16a3b30da0e88",
        "IPY_MODEL_f6b3fe8feccb4028b04119fe646da1a6"
       ],
       "column_headers": [
        "0",
        "1",
        "2",
        "xyz"
       ],
       "data": [
        [
         {
          "options": {
           "format": "0.000",
           "readOnly": false,
           "renderer": null,
           "source": null,
           "style": {
            "backgroundColor": "orange"
           },
           "type": "numeric"
          },
          "value": 20
         },
         {
          "options": {
           "format": "0.[000]",
           "readOnly": true,
           "renderer": null,
           "source": null,
           "style": {},
           "type": "numeric"
          },
          "value": 40
         },
         {
          "options": {},
          "value": null
         },
         {
          "options": {},
          "value": null
         }
        ],
        [
         {
          "options": {
           "format": "0.[000]",
           "readOnly": true,
           "renderer": null,
           "source": null,
           "style": {},
           "type": "numeric"
          },
          "value": 888
         },
         {
          "options": {},
          "value": null
         },
         {
          "options": {},
          "value": null
         },
         {
          "options": {},
          "value": null
         }
        ],
        [
         {
          "options": {},
          "value": null
         },
         {
          "options": {},
          "value": null
         },
         {
          "options": {},
          "value": null
         },
         {
          "options": {},
          "value": null
         }
        ]
       ],
       "layout": "IPY_MODEL_8c417e70b386423c843155be88e72fda",
       "row_headers": [
        "x",
        "y",
        ""
       ],
       "stretch_headers": "none"
      }
     },
     "29e48367fb414081b38d9def3b2ad08b": {
      "model_module": "ipysheet",
      "model_module_version": "^0.1.0",
      "model_name": "CellModel",
      "state": {
       "_model_module_version": "^0.1.0",
       "_view_module": null,
       "_view_module_version": "",
       "column": 0,
       "row": 5,
       "type": "text",
       "value": "year 3"
      }
     },
     "2a45538545ca41b0894e2899afd306db": {
      "model_module": "ipysheet",
      "model_module_version": "^0.1.0",
      "model_name": "CellModel",
      "state": {
       "_model_module_version": "^0.1.0",
       "_view_module": null,
       "_view_module_version": "",
       "row": 12,
       "type": "numeric",
       "value": 148.02442849183444
      }
     },
     "2b3a936446e741178603e3b79b1fd64e": {
      "model_module": "ipysheet",
      "model_module_version": "^0.1.0",
      "model_name": "CellModel",
      "state": {
       "_model_module_version": "^0.1.0",
       "_view_module": null,
       "_view_module_version": "",
       "row": 2,
       "style": {
        "backgroundColor": "salmon"
       },
       "type": "numeric",
       "value": 37.1
      }
     },
     "2b7814e5e6d94509840e28fda4834d3b": {
      "model_module": "ipysheet",
      "model_module_version": "^0.1.0",
      "model_name": "CellModel",
      "state": {
       "_model_module_version": "^0.1.0",
       "_view_module": null,
       "_view_module_version": "",
       "column": 0,
       "style": {
        "fontWeight": "bold"
       },
       "type": "text",
       "value": "b"
      }
     },
     "2eaa284c53aa4a19bf7726699f2c5f0f": {
      "model_module": "@jupyter-widgets/base",
      "model_module_version": "1.0.0",
      "model_name": "LayoutModel",
      "state": {}
     },
     "2f5bc0da84b54bd1958733a103d74391": {
      "model_module": "ipysheet",
      "model_module_version": "^0.1.0",
      "model_name": "CellModel",
      "state": {
       "_model_module_version": "^0.1.0",
       "_view_module": null,
       "_view_module_version": "",
       "column": 0,
       "row": 7,
       "type": "text",
       "value": "year 5"
      }
     },
     "33fd037ddb0b4a2faf6f89c0ead0422f": {
      "model_module": "ipysheet",
      "model_module_version": "^0.1.0",
      "model_name": "CellModel",
      "state": {
       "_model_module_version": "^0.1.0",
       "_view_module": null,
       "_view_module_version": "",
       "row": 0,
       "style": {
        "color": "green"
       },
       "type": "numeric",
       "value": 5
      }
     },
     "353dbcf84fa343ed9c04d3105b919451": {
      "model_module": "@jupyter-widgets/base",
      "model_module_version": "1.0.0",
      "model_name": "LayoutModel",
      "state": {}
     },
     "35971099bb99431484748a1172032af5": {
      "model_module": "@jupyter-widgets/controls",
      "model_module_version": "1.1.0",
      "model_name": "FloatSliderModel",
      "state": {
       "layout": "IPY_MODEL_353dbcf84fa343ed9c04d3105b919451",
       "step": 0.1,
       "style": "IPY_MODEL_b3f433e4434e4971b8164cfb9800708a",
       "value": 57.2
      }
     },
     "360637b287f64b1b8db39256938d64e6": {
      "model_module": "ipysheet",
      "model_module_version": "^0.1.0",
      "model_name": "CellModel",
      "state": {
       "_model_module_version": "^0.1.0",
       "_view_module": null,
       "_view_module_version": "",
       "column": 0,
       "style": {
        "fontWeight": "bold"
       },
       "type": "text",
       "value": "b"
      }
     },
     "373b87ff01fd45c58b354352088120f7": {
      "model_module": "ipysheet",
      "model_module_version": "^0.1.0",
      "model_name": "CellModel",
      "state": {
       "_model_module_version": "^0.1.0",
       "_view_module": null,
       "_view_module_version": "",
       "column": 0,
       "style": {
        "fontWeight": "bold"
       },
       "type": "text",
       "value": "b"
      }
     },
     "376a25107b874a87baea5bfac1f82517": {
      "model_module": "ipysheet",
      "model_module_version": "^0.1.0",
      "model_name": "CellModel",
      "state": {
       "_model_module_version": "^0.1.0",
       "_view_module": null,
       "_view_module_version": "",
       "row": 0,
       "style": {
        "color": "green"
       },
       "type": "numeric",
       "value": 5
      }
     },
     "37ad2c4081ce4651aff8734bcfb2e760": {
      "model_module": "ipysheet",
      "model_module_version": "^0.1.0",
      "model_name": "CellModel",
      "state": {
       "_model_module_version": "^0.1.0",
       "_view_module": null,
       "_view_module_version": "",
       "column": 0,
       "row": 0,
       "style": {
        "fontWeight": "bold"
       },
       "type": "text",
       "value": "a"
      }
     },
     "38d03ad145714efcbc0e3f212fffef15": {
      "model_module": "ipysheet",
      "model_module_version": "^0.1.0",
      "model_name": "CellModel",
      "state": {
       "_model_module_version": "^0.1.0",
       "_view_module": null,
       "_view_module_version": "",
       "read_only": true,
       "row": 0,
       "type": "numeric",
       "value": 2
      }
     },
     "3b5b01182af24f90a6f3a7b4b0d408b7": {
      "model_module": "@jupyter-widgets/base",
      "model_module_version": "1.0.0",
      "model_name": "LayoutModel",
      "state": {}
     },
     "3dcf7acb827844808db741accdb220de": {
      "model_module": "ipysheet",
      "model_module_version": "^0.1.0",
      "model_name": "CellModel",
      "state": {
       "_model_module_version": "^0.1.0",
       "_view_module": null,
       "_view_module_version": "",
       "row": 5,
       "type": "numeric",
       "value": 106.1208
      }
     },
     "3df480d2f07c48229de936ccfbe07ec3": {
      "model_module": "ipysheet",
      "model_module_version": "^0.1.0",
      "model_name": "CellModel",
      "state": {
       "_model_module_version": "^0.1.0",
       "_view_module": null,
       "_view_module_version": "",
       "row": 12,
       "type": "numeric",
       "value": 0
      }
     },
     "3df5b89e75d24f8ab2dce2b569e5c7c0": {
      "model_module": "ipysheet",
      "model_module_version": "^0.1.0",
      "model_name": "CellModel",
      "state": {
       "_model_module_version": "^0.1.0",
       "_view_module": null,
       "_view_module_version": "",
       "column": 0,
       "row": 0,
       "style": {
        "fontWeight": "bold"
       },
       "type": "text",
       "value": "a"
      }
     },
     "3e3bba2ff4fc44b88dfe1b8be82b99e0": {
      "model_module": "ipysheet",
      "model_module_version": "^0.1.0",
      "model_name": "CellModel",
      "state": {
       "_model_module_version": "^0.1.0",
       "_view_module": null,
       "_view_module_version": "",
       "row": 9,
       "type": "numeric",
       "value": 0
      }
     },
     "3e4cb81b3544431287702782c6b6d919": {
      "model_module": "ipysheet",
      "model_module_version": "^0.1.0",
      "model_name": "CellModel",
      "state": {
       "_model_module_version": "^0.1.0",
       "_view_module": null,
       "_view_module_version": "",
       "row": 7,
       "type": "numeric",
       "value": 121.66529024000002
      }
     },
     "3ef016a09223439288c06106be1b78c8": {
      "model_module": "ipysheet",
      "model_module_version": "^0.1.0",
      "model_name": "CellModel",
      "state": {
       "_model_module_version": "^0.1.0",
       "_view_module": null,
       "_view_module_version": "",
       "column": 0,
       "row": 12,
       "type": "text",
       "value": "year 10"
      }
     },
     "3f735f2c2aae43ea89ee103d6c267bc0": {
      "model_module": "ipysheet",
      "model_module_version": "^0.1.0",
      "model_name": "CellModel",
      "state": {
       "_model_module_version": "^0.1.0",
       "_view_module": null,
       "_view_module_version": "",
       "column": 0,
       "row": 2,
       "style": {
        "fontWeight": "bold"
       },
       "type": "text",
       "value": "sum"
      }
     },
     "3f84cb1b7c434605872fe338a1705cd7": {
      "model_module": "ipysheet",
      "model_module_version": "^0.1.0",
      "model_name": "CellModel",
      "state": {
       "_model_module_version": "^0.1.0",
       "_view_module": null,
       "_view_module_version": "",
       "column": 0,
       "row": 0,
       "style": {
        "fontWeight": "bold"
       },
       "type": "text",
       "value": "interest(%):"
      }
     },
     "3fa4953f29fb42dea071c7751a9b35dc": {
      "model_module": "ipysheet",
      "model_module_version": "^0.1.0",
      "model_name": "CellModel",
      "state": {
       "_model_module_version": "^0.1.0",
       "_view_module": null,
       "_view_module_version": "",
       "row": 2,
       "style": {
        "backgroundColor": "salmon"
       },
       "type": "numeric",
       "value": 62.2
      }
     },
     "40590c86ad294aa8be6d3725bdd65131": {
      "model_module": "ipysheet",
      "model_module_version": "^0.1.0",
      "model_name": "CellModel",
      "state": {
       "_model_module_version": "^0.1.0",
       "_view_module": null,
       "_view_module_version": "",
       "row": 9,
       "type": "numeric",
       "value": 114.868566764928
      }
     },
     "40799220806e4381976e1672b2043366": {
      "model_module": "ipysheet",
      "model_module_version": "^0.1.0",
      "model_name": "CellModel",
      "state": {
       "_model_module_version": "^0.1.0",
       "_view_module": null,
       "_view_module_version": "",
       "row": 11,
       "type": "numeric",
       "value": 142.3311812421485
      }
     },
     "4094098c96f34915a7e05c590a8f0952": {
      "model_module": "ipysheet",
      "model_module_version": "^0.1.0",
      "model_name": "CellModel",
      "state": {
       "_model_module_version": "^0.1.0",
       "_view_module": null,
       "_view_module_version": "",
       "column": 0,
       "style": {
        "fontWeight": "bold"
       },
       "type": "text",
       "value": "b"
      }
     },
     "429cbcfd69724e8e82f75f66c2b2a4c6": {
      "model_module": "ipysheet",
      "model_module_version": "^0.1.0",
      "model_name": "CellModel",
      "state": {
       "_model_module_version": "^0.1.0",
       "_view_module": null,
       "_view_module_version": "",
       "column": 0,
       "row": 10,
       "type": "text",
       "value": "year 8"
      }
     },
     "4392988655b04c55b03af1ee7dfa0d64": {
      "model_module": "ipysheet",
      "model_module_version": "^0.1.0",
      "model_name": "CellModel",
      "state": {
       "_model_module_version": "^0.1.0",
       "_view_module": null,
       "_view_module_version": "",
       "row": 2,
       "style": {
        "backgroundColor": "orange"
       },
       "type": "numeric",
       "value": 5
      }
     },
     "448af75931b845f2952d4ae14c1150f7": {
      "model_module": "ipysheet",
      "model_module_version": "^0.1.0",
      "model_name": "CellModel",
      "state": {
       "_model_module_version": "^0.1.0",
       "_view_module": null,
       "_view_module_version": "",
       "row": 5,
       "type": "numeric",
       "value": 0
      }
     },
     "449045ecbee24584af2788bb15d5dc05": {
      "model_module": "ipysheet",
      "model_module_version": "^0.1.0",
      "model_name": "CellModel",
      "state": {
       "_model_module_version": "^0.1.0",
       "_view_module": null,
       "_view_module_version": "",
       "row": 0,
       "style": {
        "color": "green"
       },
       "type": "numeric",
       "value": 2
      }
     },
     "459491996226448da2d2f6babcd6ea49": {
      "model_module": "ipysheet",
      "model_module_version": "^0.1.0",
      "model_name": "SheetModel",
      "state": {
       "_model_module_version": "^0.1.0",
       "_view_module_version": "^0.1.0",
       "column_width": [
        100,
        200
       ],
       "data": [
        [
         {
          "options": {},
          "value": null
         },
         {
          "options": {},
          "value": null
         },
         {
          "options": {},
          "value": null
         },
         {
          "options": {},
          "value": null
         }
        ],
        [
         {
          "options": {},
          "value": null
         },
         {
          "options": {},
          "value": null
         },
         {
          "options": {},
          "value": null
         },
         {
          "options": {},
          "value": null
         }
        ],
        [
         {
          "options": {},
          "value": null
         },
         {
          "options": {},
          "value": null
         },
         {
          "options": {},
          "value": null
         },
         {
          "options": {},
          "value": null
         }
        ]
       ],
       "layout": "IPY_MODEL_1425ed57af5645749b39a86da9f631dd",
       "stretch_headers": "none"
      }
     },
     "459523d62715401e8527d9932c93bc56": {
      "model_module": "ipysheet",
      "model_module_version": "^0.1.0",
      "model_name": "CellModel",
      "state": {
       "_model_module_version": "^0.1.0",
       "_view_module": null,
       "_view_module_version": "",
       "column": 0,
       "row": 6,
       "type": "text",
       "value": "year 4"
      }
     },
     "461e7e5793154c8c83f403b79cfa326c": {
      "model_module": "ipysheet",
      "model_module_version": "^0.1.0",
      "model_name": "CellModel",
      "state": {
       "_model_module_version": "^0.1.0",
       "_view_module": null,
       "_view_module_version": "",
       "style": {
        "color": "blue"
       },
       "type": "numeric",
       "value": 3
      }
     },
     "475bd2b5782942cab339a6736acf56d2": {
      "model_module": "ipysheet",
      "model_module_version": "^0.1.0",
      "model_name": "SheetModel",
      "state": {
       "_model_module_version": "^0.1.0",
       "_view_module_version": "^0.1.0",
       "cells": [
        "IPY_MODEL_85bd0566ecf84a09af39c3bfff91e9af",
        "IPY_MODEL_5c7bb1fd9e07440a8fd507735569a521",
        "IPY_MODEL_b15bff9ae25648cb9c472a74d7c516bf",
        "IPY_MODEL_0a467f8f138243b7b36e51398bd32852",
        "IPY_MODEL_b878304a782b47e4aeca82261038d800",
        "IPY_MODEL_d6b67b4f5b2f42f989a654ca4f114c3d",
        "IPY_MODEL_1b567cf96bba4a769ac197742a5c198e",
        "IPY_MODEL_a3c8490647a648f8b232f54a425f9f49",
        "IPY_MODEL_ba757ec00c544af580f2e027c6222397",
        "IPY_MODEL_3dcf7acb827844808db741accdb220de",
        "IPY_MODEL_f6d6daf3b9cb48d790b2520b484cade7",
        "IPY_MODEL_975097b924cc4783879d318b132f80a7",
        "IPY_MODEL_2f5bc0da84b54bd1958733a103d74391",
        "IPY_MODEL_9647eed3c9594e59bf74bb3007df1cdd",
        "IPY_MODEL_0e6b547c56ea4d34a0e0c7fe5570705c",
        "IPY_MODEL_1e6f239a4cc34d349a0650c039de7fda",
        "IPY_MODEL_f50f739da4254f41ad5434f853456a38",
        "IPY_MODEL_40590c86ad294aa8be6d3725bdd65131",
        "IPY_MODEL_4852d7b8c236495b801e0ee2e3a8a3dc",
        "IPY_MODEL_150c7b42a4794cfaa38c57053697a52d",
        "IPY_MODEL_b8402448efee4ecf97fd149c1f786720",
        "IPY_MODEL_e7978e0a967340ebb295ccec8d51fa64",
        "IPY_MODEL_3ef016a09223439288c06106be1b78c8",
        "IPY_MODEL_548689ca98354823a71474ea799c9b6c"
       ],
       "columns": 2,
       "data": [
        [
         {
          "options": {
           "format": "0.[000]",
           "readOnly": false,
           "renderer": null,
           "source": null,
           "style": {
            "fontWeight": "bold"
           },
           "type": "text"
          },
          "value": "interest(%):"
         },
         {
          "options": {
           "format": "0.[000]",
           "readOnly": false,
           "renderer": null,
           "source": null,
           "style": {},
           "type": "numeric"
          },
          "value": 2
         }
        ],
        [
         {
          "options": {
           "format": "0.[000]",
           "readOnly": false,
           "renderer": null,
           "source": null,
           "style": {
            "fontWeight": "bold"
           },
           "type": "text"
          },
          "value": "amount(EUR):"
         },
         {
          "options": {
           "format": "0.[000]",
           "readOnly": false,
           "renderer": null,
           "source": null,
           "style": {},
           "type": "numeric"
          },
          "value": 100
         }
        ],
        [
         {
          "options": {},
          "value": null
         },
         {
          "options": {},
          "value": null
         }
        ],
        [
         {
          "options": {
           "format": "0.[000]",
           "readOnly": false,
           "renderer": null,
           "source": null,
           "style": {},
           "type": "text"
          },
          "value": "year 1"
         },
         {
          "options": {
           "format": "0.[000]",
           "readOnly": false,
           "renderer": null,
           "source": null,
           "style": {},
           "type": "numeric"
          },
          "value": 102
         }
        ],
        [
         {
          "options": {
           "format": "0.[000]",
           "readOnly": false,
           "renderer": null,
           "source": null,
           "style": {},
           "type": "text"
          },
          "value": "year 2"
         },
         {
          "options": {
           "format": "0.[000]",
           "readOnly": false,
           "renderer": null,
           "source": null,
           "style": {},
           "type": "numeric"
          },
          "value": 104.04
         }
        ],
        [
         {
          "options": {
           "format": "0.[000]",
           "readOnly": false,
           "renderer": null,
           "source": null,
           "style": {},
           "type": "text"
          },
          "value": "year 3"
         },
         {
          "options": {
           "format": "0.[000]",
           "readOnly": false,
           "renderer": null,
           "source": null,
           "style": {},
           "type": "numeric"
          },
          "value": 106.1208
         }
        ],
        [
         {
          "options": {
           "format": "0.[000]",
           "readOnly": false,
           "renderer": null,
           "source": null,
           "style": {},
           "type": "text"
          },
          "value": "year 4"
         },
         {
          "options": {
           "format": "0.[000]",
           "readOnly": false,
           "renderer": null,
           "source": null,
           "style": {},
           "type": "numeric"
          },
          "value": 108.243216
         }
        ],
        [
         {
          "options": {
           "format": "0.[000]",
           "readOnly": false,
           "renderer": null,
           "source": null,
           "style": {},
           "type": "text"
          },
          "value": "year 5"
         },
         {
          "options": {
           "format": "0.[000]",
           "readOnly": false,
           "renderer": null,
           "source": null,
           "style": {},
           "type": "numeric"
          },
          "value": 110.40808032000001
         }
        ],
        [
         {
          "options": {
           "format": "0.[000]",
           "readOnly": false,
           "renderer": null,
           "source": null,
           "style": {},
           "type": "text"
          },
          "value": "year 6"
         },
         {
          "options": {
           "format": "0.[000]",
           "readOnly": false,
           "renderer": null,
           "source": null,
           "style": {},
           "type": "numeric"
          },
          "value": 112.61624192640001
         }
        ],
        [
         {
          "options": {
           "format": "0.[000]",
           "readOnly": false,
           "renderer": null,
           "source": null,
           "style": {},
           "type": "text"
          },
          "value": "year 7"
         },
         {
          "options": {
           "format": "0.[000]",
           "readOnly": false,
           "renderer": null,
           "source": null,
           "style": {},
           "type": "numeric"
          },
          "value": 114.868566764928
         }
        ],
        [
         {
          "options": {
           "format": "0.[000]",
           "readOnly": false,
           "renderer": null,
           "source": null,
           "style": {},
           "type": "text"
          },
          "value": "year 8"
         },
         {
          "options": {
           "format": "0.[000]",
           "readOnly": false,
           "renderer": null,
           "source": null,
           "style": {},
           "type": "numeric"
          },
          "value": 117.16593810022657
         }
        ],
        [
         {
          "options": {
           "format": "0.[000]",
           "readOnly": false,
           "renderer": null,
           "source": null,
           "style": {},
           "type": "text"
          },
          "value": "year 9"
         },
         {
          "options": {
           "format": "0.[000]",
           "readOnly": false,
           "renderer": null,
           "source": null,
           "style": {},
           "type": "numeric"
          },
          "value": 119.5092568622311
         }
        ],
        [
         {
          "options": {
           "format": "0.[000]",
           "readOnly": false,
           "renderer": null,
           "source": null,
           "style": {},
           "type": "text"
          },
          "value": "year 10"
         },
         {
          "options": {
           "format": "0.[000]",
           "readOnly": false,
           "renderer": null,
           "source": null,
           "style": {},
           "type": "numeric"
          },
          "value": 121.89944199947573
         }
        ]
       ],
       "layout": "IPY_MODEL_52cc0c3913c14a2da4a18481527c3153",
       "rows": 13,
       "stretch_headers": "none"
      }
     },
     "4852d7b8c236495b801e0ee2e3a8a3dc": {
      "model_module": "ipysheet",
      "model_module_version": "^0.1.0",
      "model_name": "CellModel",
      "state": {
       "_model_module_version": "^0.1.0",
       "_view_module": null,
       "_view_module_version": "",
       "column": 0,
       "row": 10,
       "type": "text",
       "value": "year 8"
      }
     },
     "499149330a5c407782559525f3def464": {
      "model_module": "ipysheet",
      "model_module_version": "^0.1.0",
      "model_name": "CellModel",
      "state": {
       "_model_module_version": "^0.1.0",
       "_view_module": null,
       "_view_module_version": "",
       "row": 11,
       "type": "numeric",
       "value": 0
      }
     },
     "49f321258850454589ff5392dfd8f9f2": {
      "model_module": "ipysheet",
      "model_module_version": "^0.1.0",
      "model_name": "CellModel",
      "state": {
       "_model_module_version": "^0.1.0",
       "_view_module": null,
       "_view_module_version": "",
       "column": 0,
       "row": 4,
       "type": "text",
       "value": "year 2"
      }
     },
     "4c7b4302925c4d0d9a6eb27e7a8b204d": {
      "model_module": "ipysheet",
      "model_module_version": "^0.1.0",
      "model_name": "CellModel",
      "state": {
       "_model_module_version": "^0.1.0",
       "_view_module": null,
       "_view_module_version": "",
       "column": 0,
       "read_only": true,
       "type": "numeric",
       "value": 999
      }
     },
     "4d0bfae319af40948c65c58122e1ed20": {
      "model_module": "ipysheet",
      "model_module_version": "^0.1.0",
      "model_name": "SheetModel",
      "state": {
       "_model_module_version": "^0.1.0",
       "_view_module_version": "^0.1.0",
       "cells": [
        "IPY_MODEL_91dd71f46698474ea32d9221bdfa1b5a",
        "IPY_MODEL_a19f2fcf510545cdb1055d7288d51212",
        "IPY_MODEL_be38b7e60a604b3e8da883bf13f82b23",
        "IPY_MODEL_360637b287f64b1b8db39256938d64e6",
        "IPY_MODEL_61efc27053df44abaac217864be13b46",
        "IPY_MODEL_cc6852cc66de492397f15e83474603e8"
       ],
       "column_headers": false,
       "columns": 2,
       "data": [
        [
         {
          "options": {
           "format": "0.[000]",
           "readOnly": false,
           "renderer": null,
           "source": null,
           "style": {
            "fontWeight": "bold"
           },
           "type": "text"
          },
          "value": "a"
         },
         {
          "options": {
           "format": "0.[000]",
           "readOnly": false,
           "renderer": null,
           "source": null,
           "style": {
            "color": "green"
           },
           "type": "numeric"
          },
          "value": 2
         }
        ],
        [
         {
          "options": {
           "format": "0.[000]",
           "readOnly": false,
           "renderer": null,
           "source": null,
           "style": {
            "fontWeight": "bold"
           },
           "type": "text"
          },
          "value": "b"
         },
         {
          "options": {
           "format": "0.[000]",
           "readOnly": false,
           "renderer": null,
           "source": null,
           "style": {
            "color": "blue"
           },
           "type": "numeric"
          },
          "value": 3
         }
        ],
        [
         {
          "options": {
           "format": "0.[000]",
           "readOnly": false,
           "renderer": null,
           "source": null,
           "style": {
            "fontWeight": "bold"
           },
           "type": "text"
          },
          "value": "sum"
         },
         {
          "options": {
           "format": "0.[000]",
           "readOnly": false,
           "renderer": null,
           "source": null,
           "style": {
            "backgroundColor": "orange"
           },
           "type": "numeric"
          },
          "value": 5
         }
        ]
       ],
       "layout": "IPY_MODEL_a87f5066480945d2bb6fa08281fe6676",
       "row_headers": false,
       "stretch_headers": "none"
      }
     },
     "4d3855ee993c43b69b7d1e1b859eea8b": {
      "model_module": "ipysheet",
      "model_module_version": "^0.1.0",
      "model_name": "CellModel",
      "state": {
       "_model_module_version": "^0.1.0",
       "_view_module": null,
       "_view_module_version": "",
       "style": {
        "color": "blue"
       },
       "type": "numeric",
       "value": 3
      }
     },
     "4d9162d3e4804a3b8acb9e28364ac3c6": {
      "model_module": "ipysheet",
      "model_module_version": "^0.1.0",
      "model_name": "CellModel",
      "state": {
       "_model_module_version": "^0.1.0",
       "_view_module": null,
       "_view_module_version": "",
       "column": 0,
       "format": "0.000",
       "row": 0,
       "style": {
        "backgroundColor": "lightblue",
        "fontWeight": "bold"
       },
       "type": "numeric",
       "value": 1
      }
     },
     "52b780164e344d588ee022b73b9b9f93": {
      "model_module": "ipysheet",
      "model_module_version": "^0.1.0",
      "model_name": "CellModel",
      "state": {
       "_model_module_version": "^0.1.0",
       "_view_module": null,
       "_view_module_version": "",
       "column": 0,
       "row": 2,
       "style": {
        "fontWeight": "bold"
       },
       "type": "text",
       "value": "sum"
      }
     },
     "52cc0c3913c14a2da4a18481527c3153": {
      "model_module": "@jupyter-widgets/base",
      "model_module_version": "1.0.0",
      "model_name": "LayoutModel",
      "state": {}
     },
     "5386a9ed37304ddea5cce0da134a533f": {
      "model_module": "ipysheet",
      "model_module_version": "^0.1.0",
      "model_name": "CellModel",
      "state": {
       "_model_module_version": "^0.1.0",
       "_view_module": null,
       "_view_module_version": "",
       "row": 0,
       "type": "numeric",
       "value": 4
      }
     },
     "544edf746eeb4869b75bdf8e61f093e2": {
      "model_module": "ipysheet",
      "model_module_version": "^0.1.0",
      "model_name": "CellModel",
      "state": {
       "_model_module_version": "^0.1.0",
       "_view_module": null,
       "_view_module_version": "",
       "column": 0,
       "row": 0,
       "style": {
        "fontWeight": "bold"
       },
       "type": "text",
       "value": "a"
      }
     },
     "548689ca98354823a71474ea799c9b6c": {
      "model_module": "ipysheet",
      "model_module_version": "^0.1.0",
      "model_name": "CellModel",
      "state": {
       "_model_module_version": "^0.1.0",
       "_view_module": null,
       "_view_module_version": "",
       "row": 12,
       "type": "numeric",
       "value": 121.89944199947573
      }
     },
     "564314e59dec4c5796d6376122f57f09": {
      "model_module": "ipysheet",
      "model_module_version": "^0.1.0",
      "model_name": "CellModel",
      "state": {
       "_model_module_version": "^0.1.0",
       "_view_module": null,
       "_view_module_version": "",
       "column": 0,
       "row": 2,
       "style": {
        "fontWeight": "bold"
       },
       "type": "text",
       "value": "sum"
      }
     },
     "56b131ed5da944e6bb35bcff4f9931af": {
      "model_module": "ipysheet",
      "model_module_version": "^0.1.0",
      "model_name": "CellModel",
      "state": {
       "_model_module_version": "^0.1.0",
       "_view_module": null,
       "_view_module_version": "",
       "row": 0,
       "type": "numeric",
       "value": 4
      }
     },
     "58629efcec4f4b44ab0344eb593c2a69": {
      "model_module": "ipysheet",
      "model_module_version": "^0.1.0",
      "model_name": "CellModel",
      "state": {
       "_model_module_version": "^0.1.0",
       "_view_module": null,
       "_view_module_version": "",
       "column": 0,
       "row": 7,
       "type": "text",
       "value": "year 5"
      }
     },
     "595e7ad1596245aab80429bd0667fcda": {
      "model_module": "ipysheet",
      "model_module_version": "^0.1.0",
      "model_name": "CellModel",
      "state": {
       "_model_module_version": "^0.1.0",
       "_view_module": null,
       "_view_module_version": "",
       "column": 0,
       "row": 7,
       "type": "text",
       "value": "year 5"
      }
     },
     "5c7bb1fd9e07440a8fd507735569a521": {
      "model_module": "ipysheet",
      "model_module_version": "^0.1.0",
      "model_name": "CellModel",
      "state": {
       "_model_module_version": "^0.1.0",
       "_view_module": null,
       "_view_module_version": "",
       "column": 0,
       "row": 0,
       "style": {
        "fontWeight": "bold"
       },
       "type": "text",
       "value": "interest(%):"
      }
     },
     "5f5ab91e443c4b2384124a5bd07bf789": {
      "model_module": "ipysheet",
      "model_module_version": "^0.1.0",
      "model_name": "CellModel",
      "state": {
       "_model_module_version": "^0.1.0",
       "_view_module": null,
       "_view_module_version": "",
       "column": 0,
       "row": 4,
       "type": "text",
       "value": "year 2"
      }
     },
     "6161601b844745959e52f7bf275509f2": {
      "model_module": "ipysheet",
      "model_module_version": "^0.1.0",
      "model_name": "CellModel",
      "state": {
       "_model_module_version": "^0.1.0",
       "_view_module": null,
       "_view_module_version": "",
       "row": 2,
       "style": {
        "backgroundColor": "orange"
       },
       "type": "numeric",
       "value": 5
      }
     },
     "61efc27053df44abaac217864be13b46": {
      "model_module": "ipysheet",
      "model_module_version": "^0.1.0",
      "model_name": "CellModel",
      "state": {
       "_model_module_version": "^0.1.0",
       "_view_module": null,
       "_view_module_version": "",
       "row": 2,
       "style": {
        "backgroundColor": "orange"
       },
       "type": "numeric",
       "value": 5
      }
     },
     "62e6fd064eb44f0a8e3afaf6d95fafe5": {
      "model_module": "ipysheet",
      "model_module_version": "^0.1.0",
      "model_name": "CellModel",
      "state": {
       "_model_module_version": "^0.1.0",
       "_view_module": null,
       "_view_module_version": "",
       "column": 0,
       "style": {
        "fontWeight": "bold"
       },
       "type": "text",
       "value": "amount(EUR):"
      }
     },
     "66047638220f46a9bb62d2a8009147bb": {
      "model_module": "ipysheet",
      "model_module_version": "^0.1.0",
      "model_name": "CellModel",
      "state": {
       "_model_module_version": "^0.1.0",
       "_view_module": null,
       "_view_module_version": "",
       "row": 2,
       "style": {
        "backgroundColor": "salmon"
       },
       "type": "numeric",
       "value": 5
      }
     },
     "6607084eeb8741a29ddd912466820d6c": {
      "model_module": "@jupyter-widgets/base",
      "model_module_version": "1.0.0",
      "model_name": "LayoutModel",
      "state": {}
     },
     "67fc246cf39e4612bdfacdaa75c448bb": {
      "model_module": "ipysheet",
      "model_module_version": "^0.1.0",
      "model_name": "SheetModel",
      "state": {
       "_model_module_version": "^0.1.0",
       "_view_module_version": "^0.1.0",
       "cells": [
        "IPY_MODEL_261a11be8a0b4003ba3016c80daa2ba7",
        "IPY_MODEL_ae5f7c4293604ca79a92c392abc7249d",
        "IPY_MODEL_78b5f8c0fbda4802916c231d3470b6dd",
        "IPY_MODEL_2b7814e5e6d94509840e28fda4834d3b",
        "IPY_MODEL_1f9e602a30af40a79ab81c7d75425b9e",
        "IPY_MODEL_86230e662f994bd8a503d99dbc4970b3"
       ],
       "column_headers": false,
       "column_width": [
        100,
        150
       ],
       "columns": 2,
       "data": [
        [
         {
          "options": {
           "format": "0.[000]",
           "readOnly": false,
           "renderer": null,
           "source": null,
           "style": {
            "fontWeight": "bold"
           },
           "type": "text"
          },
          "value": "a"
         },
         {
          "options": {
           "format": "0.[000]",
           "readOnly": false,
           "renderer": null,
           "source": null,
           "style": {
            "color": "green"
           },
           "type": "numeric"
          },
          "value": 5
         }
        ],
        [
         {
          "options": {
           "format": "0.[000]",
           "readOnly": false,
           "renderer": null,
           "source": null,
           "style": {
            "fontWeight": "bold"
           },
           "type": "text"
          },
          "value": "b"
         },
         {
          "options": {
           "format": "0.[000]",
           "readOnly": false,
           "renderer": null,
           "source": null,
           "style": {
            "color": "blue"
           },
           "type": "numeric"
          },
          "value": 38.4
         }
        ],
        [
         {
          "options": {
           "format": "0.[000]",
           "readOnly": false,
           "renderer": null,
           "source": null,
           "style": {
            "fontWeight": "bold"
           },
           "type": "text"
          },
          "value": "sum"
         },
         {
          "options": {
           "format": "0.[000]",
           "readOnly": false,
           "renderer": null,
           "source": null,
           "style": {
            "backgroundColor": "salmon"
           },
           "type": "numeric"
          },
          "value": 43.4
         }
        ]
       ],
       "layout": "IPY_MODEL_95acfb47de0b4f37898cb5c5bdb98de1",
       "row_headers": false,
       "stretch_headers": "none"
      }
     },
     "6b36e22d0d354ac4b7585c1b21e54cba": {
      "model_module": "ipysheet",
      "model_module_version": "^0.1.0",
      "model_name": "SheetModel",
      "state": {
       "_model_module_version": "^0.1.0",
       "_view_module_version": "^0.1.0",
       "cells": [
        "IPY_MODEL_7c3fb57e39834beb90329e92295ccffc",
        "IPY_MODEL_9e5c039d9a4647ffb8e26268e89200f8",
        "IPY_MODEL_461e7e5793154c8c83f403b79cfa326c",
        "IPY_MODEL_373b87ff01fd45c58b354352088120f7",
        "IPY_MODEL_1d3169bc8dd54d91bac58fda78a84065",
        "IPY_MODEL_1457cd5049f24d0f91f8d1109bf187cb"
       ],
       "column_headers": false,
       "column_width": [
        100,
        150
       ],
       "columns": 2,
       "data": [
        [
         {
          "options": {
           "format": "0.[000]",
           "readOnly": false,
           "renderer": null,
           "source": null,
           "style": {
            "fontWeight": "bold"
           },
           "type": "text"
          },
          "value": "a"
         },
         {
          "options": {
           "format": "0.[000]",
           "readOnly": false,
           "renderer": null,
           "source": null,
           "style": {
            "color": "green"
           },
           "type": "numeric"
          },
          "value": 2
         }
        ],
        [
         {
          "options": {
           "format": "0.[000]",
           "readOnly": false,
           "renderer": null,
           "source": null,
           "style": {
            "fontWeight": "bold"
           },
           "type": "text"
          },
          "value": "b"
         },
         {
          "options": {
           "format": "0.[000]",
           "readOnly": false,
           "renderer": null,
           "source": null,
           "style": {
            "color": "blue"
           },
           "type": "numeric"
          },
          "value": 3
         }
        ],
        [
         {
          "options": {
           "format": "0.[000]",
           "readOnly": false,
           "renderer": null,
           "source": null,
           "style": {
            "fontWeight": "bold"
           },
           "type": "text"
          },
          "value": "sum"
         },
         {
          "options": {
           "format": "0.[000]",
           "readOnly": false,
           "renderer": null,
           "source": null,
           "style": {
            "backgroundColor": "orange"
           },
           "type": "numeric"
          },
          "value": 5
         }
        ]
       ],
       "layout": "IPY_MODEL_9c69e9d3afbb47fca9408cc0cbc259ed",
       "row_headers": false
      }
     },
     "6b6bab5679614a9ebbac987cb2ea93fa": {
      "model_module": "ipysheet",
      "model_module_version": "^0.1.0",
      "model_name": "SheetModel",
      "state": {
       "_model_module_version": "^0.1.0",
       "_view_module_version": "^0.1.0",
       "cells": [
        "IPY_MODEL_abc973a4315f49dc8ad6a464c11b3eda",
        "IPY_MODEL_1a3b3c18c06645b8938e7eeba64142c1",
        "IPY_MODEL_c5ffcb8c2daa4c3796bdc981f11e2116",
        "IPY_MODEL_bc2f4c6acdab46ecbc78c0c849de8b1e",
        "IPY_MODEL_66047638220f46a9bb62d2a8009147bb",
        "IPY_MODEL_3f735f2c2aae43ea89ee103d6c267bc0"
       ],
       "column_headers": false,
       "column_width": [
        100,
        150
       ],
       "columns": 2,
       "data": [
        [
         {
          "options": {
           "format": "0.[000]",
           "readOnly": false,
           "renderer": null,
           "source": null,
           "style": {
            "fontWeight": "bold"
           },
           "type": "text"
          },
          "value": "a"
         },
         {
          "options": {
           "format": "0.[000]",
           "readOnly": false,
           "renderer": null,
           "source": null,
           "style": {
            "color": "green"
           },
           "type": "numeric"
          },
          "value": 2
         }
        ],
        [
         {
          "options": {
           "format": "0.[000]",
           "readOnly": false,
           "renderer": null,
           "source": null,
           "style": {
            "fontWeight": "bold"
           },
           "type": "text"
          },
          "value": "b"
         },
         {
          "options": {
           "format": "0.[000]",
           "readOnly": false,
           "renderer": null,
           "source": null,
           "style": {
            "color": "blue"
           },
           "type": "numeric"
          },
          "value": 3
         }
        ],
        [
         {
          "options": {
           "format": "0.[000]",
           "readOnly": false,
           "renderer": null,
           "source": null,
           "style": {
            "fontWeight": "bold"
           },
           "type": "text"
          },
          "value": "sum"
         },
         {
          "options": {
           "format": "0.[000]",
           "readOnly": false,
           "renderer": null,
           "source": null,
           "style": {
            "backgroundColor": "salmon"
           },
           "type": "numeric"
          },
          "value": 5
         }
        ]
       ],
       "layout": "IPY_MODEL_030bd2f6c5a34d99be4fcc777941ef4c",
       "row_headers": false,
       "stretch_headers": "none"
      }
     },
     "6c557e8161254371a9d7ba21d441b584": {
      "model_module": "ipysheet",
      "model_module_version": "^0.1.0",
      "model_name": "CellModel",
      "state": {
       "_model_module_version": "^0.1.0",
       "_view_module": null,
       "_view_module_version": "",
       "column": 0,
       "row": 0,
       "style": {
        "fontWeight": "bold"
       },
       "type": "text",
       "value": "a"
      }
     },
     "6e8a120293b64f99b57abed260398cf7": {
      "model_module": "ipysheet",
      "model_module_version": "^0.1.0",
      "model_name": "CellModel",
      "state": {
       "_model_module_version": "^0.1.0",
       "_view_module": null,
       "_view_module_version": "",
       "column": 0,
       "row": 2,
       "style": {
        "fontWeight": "bold"
       },
       "type": "text",
       "value": "sum"
      }
     },
     "6f7c04a5c0754b7b8dbe04b74aa4f11a": {
      "model_module": "ipysheet",
      "model_module_version": "^0.1.0",
      "model_name": "CellModel",
      "state": {
       "_model_module_version": "^0.1.0",
       "_view_module": null,
       "_view_module_version": "",
       "row": 8,
       "type": "numeric",
       "value": 0
      }
     },
     "7007eb3961214756b439249d535b054f": {
      "model_module": "ipysheet",
      "model_module_version": "^0.1.0",
      "model_name": "CellModel",
      "state": {
       "_model_module_version": "^0.1.0",
       "_view_module": null,
       "_view_module_version": "",
       "row": 6,
       "type": "numeric",
       "value": 116.98585600000001
      }
     },
     "705c20b54f004e4c9059846ba07cfa91": {
      "model_module": "ipysheet",
      "model_module_version": "^0.1.0",
      "model_name": "SheetModel",
      "state": {
       "_model_module_version": "^0.1.0",
       "_view_module_version": "^0.1.0",
       "cells": [
        "IPY_MODEL_4d9162d3e4804a3b8acb9e28364ac3c6",
        "IPY_MODEL_cd22edca53234b48a19edf19bc210f96",
        "IPY_MODEL_bb4d5ae8cb764504acddec7513d2c77e"
       ],
       "column_headers": false,
       "data": [
        [
         {
          "options": {
           "format": "0.000",
           "readOnly": false,
           "renderer": null,
           "source": null,
           "style": {
            "backgroundColor": "lightblue",
            "fontWeight": "bold"
           },
           "type": "numeric"
          },
          "value": 1
         },
         {
          "options": {
           "format": "0.[000]",
           "readOnly": true,
           "renderer": null,
           "source": null,
           "style": {},
           "type": "numeric"
          },
          "value": 2
         },
         {
          "options": {
           "format": "0.[000]",
           "readOnly": false,
           "renderer": null,
           "source": null,
           "style": {
            "textAlign": "center"
           },
           "type": "checkbox"
          },
          "value": false
         },
         {
          "options": {},
          "value": null
         }
        ],
        [
         {
          "options": {},
          "value": null
         },
         {
          "options": {},
          "value": null
         },
         {
          "options": {},
          "value": null
         },
         {
          "options": {},
          "value": null
         }
        ],
        [
         {
          "options": {},
          "value": null
         },
         {
          "options": {},
          "value": null
         },
         {
          "options": {},
          "value": null
         },
         {
          "options": {},
          "value": null
         }
        ]
       ],
       "layout": "IPY_MODEL_064d775f1c824bca9023e7c079ad5ace",
       "row_headers": [
        "x",
        "y",
        ""
       ],
       "stretch_headers": "none"
      }
     },
     "711a065e2c45454da39e35c7f2e1c98b": {
      "model_module": "ipysheet",
      "model_module_version": "^0.1.0",
      "model_name": "CellModel",
      "state": {
       "_model_module_version": "^0.1.0",
       "_view_module": null,
       "_view_module_version": "",
       "column": 0,
       "row": 12,
       "type": "text",
       "value": "year 10"
      }
     },
     "7653f0725d7340229cbfe0ca60391790": {
      "model_module": "ipysheet",
      "model_module_version": "^0.1.0",
      "model_name": "CellModel",
      "state": {
       "_model_module_version": "^0.1.0",
       "_view_module": null,
       "_view_module_version": "",
       "row": 4,
       "type": "numeric",
       "value": 0
      }
     },
     "78b5f8c0fbda4802916c231d3470b6dd": {
      "model_module": "ipysheet",
      "model_module_version": "^0.1.0",
      "model_name": "CellModel",
      "state": {
       "_model_module_version": "^0.1.0",
       "_view_module": null,
       "_view_module_version": "",
       "style": {
        "color": "blue"
       },
       "type": "numeric",
       "value": 38.4
      }
     },
     "7a176a81069f483f9a6d4d13b422ba19": {
      "model_module": "ipysheet",
      "model_module_version": "^0.1.0",
      "model_name": "CellModel",
      "state": {
       "_model_module_version": "^0.1.0",
       "_view_module": null,
       "_view_module_version": "",
       "column": 0,
       "row": 9,
       "type": "text",
       "value": "year 7"
      }
     },
     "7c3fb57e39834beb90329e92295ccffc": {
      "model_module": "ipysheet",
      "model_module_version": "^0.1.0",
      "model_name": "CellModel",
      "state": {
       "_model_module_version": "^0.1.0",
       "_view_module": null,
       "_view_module_version": "",
       "row": 0,
       "style": {
        "color": "green"
       },
       "type": "numeric",
       "value": 2
      }
     },
     "7d5892e4b99947e58611286cb0b85e15": {
      "model_module": "ipysheet",
      "model_module_version": "^0.1.0",
      "model_name": "SheetModel",
      "state": {
       "_model_module_version": "^0.1.0",
       "_view_module_version": "^0.1.0",
       "cells": [
        "IPY_MODEL_56b131ed5da944e6bb35bcff4f9931af",
        "IPY_MODEL_1f0754bb3ac84535944201726a01e54f",
        "IPY_MODEL_867488fd3f95497a9c014e298d87279e",
        "IPY_MODEL_940fdc6116574f2d8698de284f1cc08a",
        "IPY_MODEL_e3458605454f4d5089e755d63e7f29a9",
        "IPY_MODEL_bfa90b792f71475193e811e0a20f446b",
        "IPY_MODEL_5f5ab91e443c4b2384124a5bd07bf789",
        "IPY_MODEL_25763f14fdbf417d9033cbf29dff33c1",
        "IPY_MODEL_29e48367fb414081b38d9def3b2ad08b",
        "IPY_MODEL_afba3f41a51e4bd3ad9af7e3f88ef1e5",
        "IPY_MODEL_ba899f9054f941619f4aab2f4fda9fc5",
        "IPY_MODEL_7007eb3961214756b439249d535b054f",
        "IPY_MODEL_595e7ad1596245aab80429bd0667fcda",
        "IPY_MODEL_3e4cb81b3544431287702782c6b6d919",
        "IPY_MODEL_e513d91d8ee24f78a5856087ce72bf0a",
        "IPY_MODEL_e39525ef533b48d78224f1b6de2983ce",
        "IPY_MODEL_8167cc27069a484da6b8e3fca4b58a37",
        "IPY_MODEL_81888f4baad146a5a30ea44954ce29c8",
        "IPY_MODEL_c438c56e8328484cab4f97cdb78cafe2",
        "IPY_MODEL_82dd9e38caf24131bb6db03c4f3f34c8",
        "IPY_MODEL_974920dc3245478faefe7c482da069b2",
        "IPY_MODEL_40799220806e4381976e1672b2043366",
        "IPY_MODEL_b7485320f87241ce84215430081825f1",
        "IPY_MODEL_2a45538545ca41b0894e2899afd306db"
       ],
       "columns": 2,
       "data": [
        [
         {
          "options": {
           "format": "0.[000]",
           "readOnly": false,
           "renderer": null,
           "source": null,
           "style": {
            "fontWeight": "bold"
           },
           "type": "text"
          },
          "value": "interest(%):"
         },
         {
          "options": {
           "format": "0.[000]",
           "readOnly": false,
           "renderer": null,
           "source": null,
           "style": {},
           "type": "numeric"
          },
          "value": 4
         }
        ],
        [
         {
          "options": {
           "format": "0.[000]",
           "readOnly": false,
           "renderer": null,
           "source": null,
           "style": {
            "fontWeight": "bold"
           },
           "type": "text"
          },
          "value": "amount(EUR):"
         },
         {
          "options": {
           "format": "0.[000]",
           "readOnly": false,
           "renderer": null,
           "source": null,
           "style": {},
           "type": "numeric"
          },
          "value": 100
         }
        ],
        [
         {
          "options": {},
          "value": null
         },
         {
          "options": {},
          "value": null
         }
        ],
        [
         {
          "options": {
           "format": "0.[000]",
           "readOnly": false,
           "renderer": null,
           "source": null,
           "style": {},
           "type": "text"
          },
          "value": "year 1"
         },
         {
          "options": {
           "format": "0.[000]",
           "readOnly": false,
           "renderer": null,
           "source": null,
           "style": {},
           "type": "numeric"
          },
          "value": 104
         }
        ],
        [
         {
          "options": {
           "format": "0.[000]",
           "readOnly": false,
           "renderer": null,
           "source": null,
           "style": {},
           "type": "text"
          },
          "value": "year 2"
         },
         {
          "options": {
           "format": "0.[000]",
           "readOnly": false,
           "renderer": null,
           "source": null,
           "style": {},
           "type": "numeric"
          },
          "value": 108.16
         }
        ],
        [
         {
          "options": {
           "format": "0.[000]",
           "readOnly": false,
           "renderer": null,
           "source": null,
           "style": {},
           "type": "text"
          },
          "value": "year 3"
         },
         {
          "options": {
           "format": "0.[000]",
           "readOnly": false,
           "renderer": null,
           "source": null,
           "style": {},
           "type": "numeric"
          },
          "value": 112.4864
         }
        ],
        [
         {
          "options": {
           "format": "0.[000]",
           "readOnly": false,
           "renderer": null,
           "source": null,
           "style": {},
           "type": "text"
          },
          "value": "year 4"
         },
         {
          "options": {
           "format": "0.[000]",
           "readOnly": false,
           "renderer": null,
           "source": null,
           "style": {},
           "type": "numeric"
          },
          "value": 116.98585600000001
         }
        ],
        [
         {
          "options": {
           "format": "0.[000]",
           "readOnly": false,
           "renderer": null,
           "source": null,
           "style": {},
           "type": "text"
          },
          "value": "year 5"
         },
         {
          "options": {
           "format": "0.[000]",
           "readOnly": false,
           "renderer": null,
           "source": null,
           "style": {},
           "type": "numeric"
          },
          "value": 121.66529024000002
         }
        ],
        [
         {
          "options": {
           "format": "0.[000]",
           "readOnly": false,
           "renderer": null,
           "source": null,
           "style": {},
           "type": "text"
          },
          "value": "year 6"
         },
         {
          "options": {
           "format": "0.[000]",
           "readOnly": false,
           "renderer": null,
           "source": null,
           "style": {},
           "type": "numeric"
          },
          "value": 126.53190184960002
         }
        ],
        [
         {
          "options": {
           "format": "0.[000]",
           "readOnly": false,
           "renderer": null,
           "source": null,
           "style": {},
           "type": "text"
          },
          "value": "year 7"
         },
         {
          "options": {
           "format": "0.[000]",
           "readOnly": false,
           "renderer": null,
           "source": null,
           "style": {},
           "type": "numeric"
          },
          "value": 131.59317792358402
         }
        ],
        [
         {
          "options": {
           "format": "0.[000]",
           "readOnly": false,
           "renderer": null,
           "source": null,
           "style": {},
           "type": "text"
          },
          "value": "year 8"
         },
         {
          "options": {
           "format": "0.[000]",
           "readOnly": false,
           "renderer": null,
           "source": null,
           "style": {},
           "type": "numeric"
          },
          "value": 136.85690504052738
         }
        ],
        [
         {
          "options": {
           "format": "0.[000]",
           "readOnly": false,
           "renderer": null,
           "source": null,
           "style": {},
           "type": "text"
          },
          "value": "year 9"
         },
         {
          "options": {
           "format": "0.[000]",
           "readOnly": false,
           "renderer": null,
           "source": null,
           "style": {},
           "type": "numeric"
          },
          "value": 142.3311812421485
         }
        ],
        [
         {
          "options": {
           "format": "0.[000]",
           "readOnly": false,
           "renderer": null,
           "source": null,
           "style": {},
           "type": "text"
          },
          "value": "year 10"
         },
         {
          "options": {
           "format": "0.[000]",
           "readOnly": false,
           "renderer": null,
           "source": null,
           "style": {},
           "type": "numeric"
          },
          "value": 148.02442849183444
         }
        ]
       ],
       "layout": "IPY_MODEL_d54d04a386d641ac87d903b5014430a9",
       "rows": 13,
       "stretch_headers": "none"
      }
     },
     "7d702ab507f84f7085e522d36b0440b0": {
      "model_module": "ipysheet",
      "model_module_version": "^0.1.0",
      "model_name": "CellModel",
      "state": {
       "_model_module_version": "^0.1.0",
       "_view_module": null,
       "_view_module_version": "",
       "column": 0,
       "row": 2,
       "style": {
        "fontWeight": "bold"
       },
       "type": "text",
       "value": "sum"
      }
     },
     "802bbe4b7d9448eabecdf7432337faba": {
      "model_module": "ipysheet",
      "model_module_version": "^0.1.0",
      "model_name": "SheetModel",
      "state": {
       "_model_module_version": "^0.1.0",
       "_view_module_version": "^0.1.0",
       "cells": [
        "IPY_MODEL_449045ecbee24584af2788bb15d5dc05",
        "IPY_MODEL_544edf746eeb4869b75bdf8e61f093e2",
        "IPY_MODEL_1abd7cc254d9466188af56bbbb9c4414",
        "IPY_MODEL_1269cc419de647c69a48af93bec455fd",
        "IPY_MODEL_4392988655b04c55b03af1ee7dfa0d64",
        "IPY_MODEL_bde62a27ac754046bb95ceab6748b649"
       ],
       "column_headers": false,
       "column_width": [
        100,
        150
       ],
       "columns": 2,
       "data": [
        [
         {
          "options": {
           "format": "0.[000]",
           "readOnly": false,
           "renderer": null,
           "source": null,
           "style": {
            "fontWeight": "bold"
           },
           "type": "text"
          },
          "value": "a"
         },
         {
          "options": {
           "format": "0.[000]",
           "readOnly": false,
           "renderer": null,
           "source": null,
           "style": {
            "color": "green"
           },
           "type": "numeric"
          },
          "value": 2
         }
        ],
        [
         {
          "options": {
           "format": "0.[000]",
           "readOnly": false,
           "renderer": null,
           "source": null,
           "style": {
            "fontWeight": "bold"
           },
           "type": "text"
          },
          "value": "b"
         },
         {
          "options": {
           "format": "0.[000]",
           "readOnly": false,
           "renderer": null,
           "source": null,
           "style": {
            "color": "blue"
           },
           "type": "numeric"
          },
          "value": 3
         }
        ],
        [
         {
          "options": {
           "format": "0.[000]",
           "readOnly": false,
           "renderer": null,
           "source": null,
           "style": {
            "fontWeight": "bold"
           },
           "type": "text"
          },
          "value": "sum"
         },
         {
          "options": {
           "format": "0.[000]",
           "readOnly": false,
           "renderer": null,
           "source": null,
           "style": {
            "backgroundColor": "orange"
           },
           "type": "numeric"
          },
          "value": 5
         }
        ]
       ],
       "layout": "IPY_MODEL_26cab17d9baa405da3ce1c0cbaf9fac7",
       "row_headers": false
      }
     },
     "8167cc27069a484da6b8e3fca4b58a37": {
      "model_module": "ipysheet",
      "model_module_version": "^0.1.0",
      "model_name": "CellModel",
      "state": {
       "_model_module_version": "^0.1.0",
       "_view_module": null,
       "_view_module_version": "",
       "column": 0,
       "row": 9,
       "type": "text",
       "value": "year 7"
      }
     },
     "81888f4baad146a5a30ea44954ce29c8": {
      "model_module": "ipysheet",
      "model_module_version": "^0.1.0",
      "model_name": "CellModel",
      "state": {
       "_model_module_version": "^0.1.0",
       "_view_module": null,
       "_view_module_version": "",
       "row": 9,
       "type": "numeric",
       "value": 131.59317792358402
      }
     },
     "82dd9e38caf24131bb6db03c4f3f34c8": {
      "model_module": "ipysheet",
      "model_module_version": "^0.1.0",
      "model_name": "CellModel",
      "state": {
       "_model_module_version": "^0.1.0",
       "_view_module": null,
       "_view_module_version": "",
       "row": 10,
       "type": "numeric",
       "value": 136.85690504052738
      }
     },
     "82e2683417224e46ba48b30cd0a0d729": {
      "model_module": "ipysheet",
      "model_module_version": "^0.1.0",
      "model_name": "SheetModel",
      "state": {
       "_model_module_version": "^0.1.0",
       "_view_module_version": "^0.1.0",
       "cells": [
        "IPY_MODEL_f090f1ddcf654a11ba0c8d031383b887",
        "IPY_MODEL_ab9619c3dcf84af8a2add346558dcdb8",
        "IPY_MODEL_2096b2dc06d241fea2b9b06b3017e7d5",
        "IPY_MODEL_d201b2b0d95747ed84862ad7832a631d",
        "IPY_MODEL_6161601b844745959e52f7bf275509f2",
        "IPY_MODEL_99f343a16bb74a1aa5f657f9fdf9d3a8"
       ],
       "column_headers": false,
       "column_width": [
        100,
        150
       ],
       "columns": 2,
       "data": [
        [
         {
          "options": {
           "format": "0.[000]",
           "readOnly": false,
           "renderer": null,
           "source": null,
           "style": {
            "fontWeight": "bold"
           },
           "type": "text"
          },
          "value": "a"
         },
         {
          "options": {
           "format": "0.[000]",
           "readOnly": false,
           "renderer": null,
           "source": null,
           "style": {
            "color": "green"
           },
           "type": "numeric"
          },
          "value": 2
         }
        ],
        [
         {
          "options": {
           "format": "0.[000]",
           "readOnly": false,
           "renderer": null,
           "source": null,
           "style": {
            "fontWeight": "bold"
           },
           "type": "text"
          },
          "value": "b"
         },
         {
          "options": {
           "format": "0.[000]",
           "readOnly": false,
           "renderer": null,
           "source": null,
           "style": {
            "color": "blue"
           },
           "type": "numeric"
          },
          "value": 3
         }
        ],
        [
         {
          "options": {
           "format": "0.[000]",
           "readOnly": false,
           "renderer": null,
           "source": null,
           "style": {
            "fontWeight": "bold"
           },
           "type": "text"
          },
          "value": "sum"
         },
         {
          "options": {
           "format": "0.[000]",
           "readOnly": false,
           "renderer": null,
           "source": null,
           "style": {
            "backgroundColor": "orange"
           },
           "type": "numeric"
          },
          "value": 5
         }
        ]
       ],
       "layout": "IPY_MODEL_d3fc368e582140f8aa5a5d3c40036287",
       "row_headers": false
      }
     },
     "83423438f6324ba48272cc98dab13273": {
      "model_module": "ipysheet",
      "model_module_version": "^0.1.0",
      "model_name": "CellModel",
      "state": {
       "_model_module_version": "^0.1.0",
       "_view_module": null,
       "_view_module_version": "",
       "style": {
        "color": "blue"
       },
       "type": "numeric",
       "value": 56
      }
     },
     "85bd0566ecf84a09af39c3bfff91e9af": {
      "model_module": "ipysheet",
      "model_module_version": "^0.1.0",
      "model_name": "CellModel",
      "state": {
       "_model_module_version": "^0.1.0",
       "_view_module": null,
       "_view_module_version": "",
       "row": 0,
       "type": "numeric",
       "value": 2
      }
     },
     "86230e662f994bd8a503d99dbc4970b3": {
      "model_module": "ipysheet",
      "model_module_version": "^0.1.0",
      "model_name": "CellModel",
      "state": {
       "_model_module_version": "^0.1.0",
       "_view_module": null,
       "_view_module_version": "",
       "column": 0,
       "row": 2,
       "style": {
        "fontWeight": "bold"
       },
       "type": "text",
       "value": "sum"
      }
     },
     "867488fd3f95497a9c014e298d87279e": {
      "model_module": "ipysheet",
      "model_module_version": "^0.1.0",
      "model_name": "CellModel",
      "state": {
       "_model_module_version": "^0.1.0",
       "_view_module": null,
       "_view_module_version": "",
       "type": "numeric",
       "value": 100
      }
     },
     "8945a1cae71442debcfe770b02c5eb77": {
      "model_module": "ipysheet",
      "model_module_version": "^0.1.0",
      "model_name": "CellModel",
      "state": {
       "_model_module_version": "^0.1.0",
       "_view_module": null,
       "_view_module_version": "",
       "column": 0,
       "style": {
        "fontWeight": "bold"
       },
       "type": "text",
       "value": "b"
      }
     },
     "89c51b32210945cf87f4bb6192c9ca2b": {
      "model_module": "ipysheet",
      "model_module_version": "^0.1.0",
      "model_name": "CellModel",
      "state": {
       "_model_module_version": "^0.1.0",
       "_view_module": null,
       "_view_module_version": "",
       "row": 0,
       "style": {
        "color": "green"
       },
       "type": "numeric",
       "value": 2
      }
     },
     "8c1ba35377de4645b028e86c074732c9": {
      "model_module": "ipysheet",
      "model_module_version": "^0.1.0",
      "model_name": "CellModel",
      "state": {
       "_model_module_version": "^0.1.0",
       "_view_module": null,
       "_view_module_version": "",
       "row": 3,
       "type": "numeric",
       "value": 0
      }
     },
     "8c417e70b386423c843155be88e72fda": {
      "model_module": "@jupyter-widgets/base",
      "model_module_version": "1.0.0",
      "model_name": "LayoutModel",
      "state": {}
     },
     "8c707caa752d431bbdf47d4ea6982c95": {
      "model_module": "ipysheet",
      "model_module_version": "^0.1.0",
      "model_name": "CellModel",
      "state": {
       "_model_module_version": "^0.1.0",
       "_view_module": null,
       "_view_module_version": "",
       "row": 6,
       "type": "numeric",
       "value": 0
      }
     },
     "8c8b673083034278a098f13302775b89": {
      "model_module": "ipysheet",
      "model_module_version": "^0.1.0",
      "model_name": "CellModel",
      "state": {
       "_model_module_version": "^0.1.0",
       "_view_module": null,
       "_view_module_version": "",
       "column": 0,
       "row": 2,
       "style": {
        "fontWeight": "bold"
       },
       "type": "text",
       "value": "sum"
      }
     },
     "90c6ddd0dab54b8a87b7224015f17096": {
      "model_module": "ipysheet",
      "model_module_version": "^0.1.0",
      "model_name": "CellModel",
      "state": {
       "_model_module_version": "^0.1.0",
       "_view_module": null,
       "_view_module_version": "",
       "read_only": true,
       "row": 0,
       "type": "numeric",
       "value": 40
      }
     },
     "9101e9b7c18e407cb9d8b1cdf4362a7c": {
      "model_module": "@jupyter-widgets/controls",
      "model_module_version": "1.1.0",
      "model_name": "FloatSliderModel",
      "state": {
       "layout": "IPY_MODEL_fbc081259f1b451ba0235c62c2079aaa",
       "step": 0.1,
       "style": "IPY_MODEL_d181cc76193e4dca90bd0518b6bca144",
       "value": 35.1
      }
     },
     "91dd71f46698474ea32d9221bdfa1b5a": {
      "model_module": "ipysheet",
      "model_module_version": "^0.1.0",
      "model_name": "CellModel",
      "state": {
       "_model_module_version": "^0.1.0",
       "_view_module": null,
       "_view_module_version": "",
       "row": 0,
       "style": {
        "color": "green"
       },
       "type": "numeric",
       "value": 2
      }
     },
     "92f2a602c47f422a9cc16a3b30da0e88": {
      "model_module": "ipysheet",
      "model_module_version": "^0.1.0",
      "model_name": "CellModel",
      "state": {
       "_model_module_version": "^0.1.0",
       "_view_module": null,
       "_view_module_version": "",
       "column": 0,
       "read_only": true,
       "type": "numeric",
       "value": 888
      }
     },
     "940fdc6116574f2d8698de284f1cc08a": {
      "model_module": "ipysheet",
      "model_module_version": "^0.1.0",
      "model_name": "CellModel",
      "state": {
       "_model_module_version": "^0.1.0",
       "_view_module": null,
       "_view_module_version": "",
       "column": 0,
       "style": {
        "fontWeight": "bold"
       },
       "type": "text",
       "value": "amount(EUR):"
      }
     },
     "948188deaa2d48cbafe5cff51f2cf19e": {
      "model_module": "@jupyter-widgets/base",
      "model_module_version": "1.0.0",
      "model_name": "LayoutModel",
      "state": {}
     },
     "95acfb47de0b4f37898cb5c5bdb98de1": {
      "model_module": "@jupyter-widgets/base",
      "model_module_version": "1.0.0",
      "model_name": "LayoutModel",
      "state": {}
     },
     "9647eed3c9594e59bf74bb3007df1cdd": {
      "model_module": "ipysheet",
      "model_module_version": "^0.1.0",
      "model_name": "CellModel",
      "state": {
       "_model_module_version": "^0.1.0",
       "_view_module": null,
       "_view_module_version": "",
       "row": 7,
       "type": "numeric",
       "value": 110.40808032000001
      }
     },
     "974920dc3245478faefe7c482da069b2": {
      "model_module": "ipysheet",
      "model_module_version": "^0.1.0",
      "model_name": "CellModel",
      "state": {
       "_model_module_version": "^0.1.0",
       "_view_module": null,
       "_view_module_version": "",
       "column": 0,
       "row": 11,
       "type": "text",
       "value": "year 9"
      }
     },
     "975097b924cc4783879d318b132f80a7": {
      "model_module": "ipysheet",
      "model_module_version": "^0.1.0",
      "model_name": "CellModel",
      "state": {
       "_model_module_version": "^0.1.0",
       "_view_module": null,
       "_view_module_version": "",
       "row": 6,
       "type": "numeric",
       "value": 108.243216
      }
     },
     "99f343a16bb74a1aa5f657f9fdf9d3a8": {
      "model_module": "ipysheet",
      "model_module_version": "^0.1.0",
      "model_name": "CellModel",
      "state": {
       "_model_module_version": "^0.1.0",
       "_view_module": null,
       "_view_module_version": "",
       "column": 0,
       "row": 2,
       "style": {
        "fontWeight": "bold"
       },
       "type": "text",
       "value": "sum"
      }
     },
     "9b000710b34f453b8feabb6710275049": {
      "model_module": "@jupyter-widgets/base",
      "model_module_version": "1.0.0",
      "model_name": "LayoutModel",
      "state": {}
     },
     "9c69e9d3afbb47fca9408cc0cbc259ed": {
      "model_module": "@jupyter-widgets/base",
      "model_module_version": "1.0.0",
      "model_name": "LayoutModel",
      "state": {}
     },
     "9e5c039d9a4647ffb8e26268e89200f8": {
      "model_module": "ipysheet",
      "model_module_version": "^0.1.0",
      "model_name": "CellModel",
      "state": {
       "_model_module_version": "^0.1.0",
       "_view_module": null,
       "_view_module_version": "",
       "column": 0,
       "row": 0,
       "style": {
        "fontWeight": "bold"
       },
       "type": "text",
       "value": "a"
      }
     },
     "a053f4b2f72f4d0dbfb355930d38d4af": {
      "model_module": "ipysheet",
      "model_module_version": "^0.1.0",
      "model_name": "CellModel",
      "state": {
       "_model_module_version": "^0.1.0",
       "_view_module": null,
       "_view_module_version": "",
       "column": 0,
       "row": 11,
       "type": "text",
       "value": "year 9"
      }
     },
     "a19f2fcf510545cdb1055d7288d51212": {
      "model_module": "ipysheet",
      "model_module_version": "^0.1.0",
      "model_name": "CellModel",
      "state": {
       "_model_module_version": "^0.1.0",
       "_view_module": null,
       "_view_module_version": "",
       "column": 0,
       "row": 0,
       "style": {
        "fontWeight": "bold"
       },
       "type": "text",
       "value": "a"
      }
     },
     "a3c8490647a648f8b232f54a425f9f49": {
      "model_module": "ipysheet",
      "model_module_version": "^0.1.0",
      "model_name": "CellModel",
      "state": {
       "_model_module_version": "^0.1.0",
       "_view_module": null,
       "_view_module_version": "",
       "row": 4,
       "type": "numeric",
       "value": 104.04
      }
     },
     "a73fcbbe66bc4459ad6112b972349e2d": {
      "model_module": "ipysheet",
      "model_module_version": "^0.1.0",
      "model_name": "CellModel",
      "state": {
       "_model_module_version": "^0.1.0",
       "_view_module": null,
       "_view_module_version": "",
       "column": 0,
       "row": 2,
       "style": {
        "fontWeight": "bold"
       },
       "type": "text",
       "value": "sum"
      }
     },
     "a87f5066480945d2bb6fa08281fe6676": {
      "model_module": "@jupyter-widgets/base",
      "model_module_version": "1.0.0",
      "model_name": "LayoutModel",
      "state": {}
     },
     "aac74f2e0ea545c0b00a89a398867136": {
      "model_module": "ipysheet",
      "model_module_version": "^0.1.0",
      "model_name": "CellModel",
      "state": {
       "_model_module_version": "^0.1.0",
       "_view_module": null,
       "_view_module_version": "",
       "column": 0,
       "row": 0,
       "style": {
        "fontWeight": "bold"
       },
       "type": "text",
       "value": "a"
      }
     },
     "ab9619c3dcf84af8a2add346558dcdb8": {
      "model_module": "ipysheet",
      "model_module_version": "^0.1.0",
      "model_name": "CellModel",
      "state": {
       "_model_module_version": "^0.1.0",
       "_view_module": null,
       "_view_module_version": "",
       "column": 0,
       "row": 0,
       "style": {
        "fontWeight": "bold"
       },
       "type": "text",
       "value": "a"
      }
     },
     "abc973a4315f49dc8ad6a464c11b3eda": {
      "model_module": "ipysheet",
      "model_module_version": "^0.1.0",
      "model_name": "CellModel",
      "state": {
       "_model_module_version": "^0.1.0",
       "_view_module": null,
       "_view_module_version": "",
       "row": 0,
       "style": {
        "color": "green"
       },
       "type": "numeric",
       "value": 2
      }
     },
     "ad79c76e72444268ba8b627fb91ba73e": {
      "model_module": "ipysheet",
      "model_module_version": "^0.1.0",
      "model_name": "SheetModel",
      "state": {
       "_model_module_version": "^0.1.0",
       "_view_module_version": "^0.1.0",
       "cells": [
        "IPY_MODEL_5386a9ed37304ddea5cce0da134a533f",
        "IPY_MODEL_3f84cb1b7c434605872fe338a1705cd7",
        "IPY_MODEL_d38171b79dc2482b85f88daffb95830a",
        "IPY_MODEL_62e6fd064eb44f0a8e3afaf6d95fafe5",
        "IPY_MODEL_b6126b4bfae74d97a7339db45fde6dd8",
        "IPY_MODEL_8c1ba35377de4645b028e86c074732c9",
        "IPY_MODEL_49f321258850454589ff5392dfd8f9f2",
        "IPY_MODEL_7653f0725d7340229cbfe0ca60391790",
        "IPY_MODEL_0c9d8c9e805e4ef0ade9cb96e9c82d61",
        "IPY_MODEL_448af75931b845f2952d4ae14c1150f7",
        "IPY_MODEL_459523d62715401e8527d9932c93bc56",
        "IPY_MODEL_8c707caa752d431bbdf47d4ea6982c95",
        "IPY_MODEL_58629efcec4f4b44ab0344eb593c2a69",
        "IPY_MODEL_ee9b7698636b4ae4a842304c1bba3db9",
        "IPY_MODEL_dee711e13192426f935b6e5bc55b0a03",
        "IPY_MODEL_6f7c04a5c0754b7b8dbe04b74aa4f11a",
        "IPY_MODEL_7a176a81069f483f9a6d4d13b422ba19",
        "IPY_MODEL_3e3bba2ff4fc44b88dfe1b8be82b99e0",
        "IPY_MODEL_429cbcfd69724e8e82f75f66c2b2a4c6",
        "IPY_MODEL_b35c3cf9005941669caf6e2ccd0b051f",
        "IPY_MODEL_a053f4b2f72f4d0dbfb355930d38d4af",
        "IPY_MODEL_499149330a5c407782559525f3def464",
        "IPY_MODEL_711a065e2c45454da39e35c7f2e1c98b",
        "IPY_MODEL_3df480d2f07c48229de936ccfbe07ec3"
       ],
       "columns": 2,
       "data": [
        [
         {
          "options": {
           "format": "0.[000]",
           "readOnly": false,
           "renderer": null,
           "source": null,
           "style": {
            "fontWeight": "bold"
           },
           "type": "text"
          },
          "value": "interest(%):"
         },
         {
          "options": {
           "format": "0.[000]",
           "readOnly": false,
           "renderer": null,
           "source": null,
           "style": {},
           "type": "numeric"
          },
          "value": 4
         }
        ],
        [
         {
          "options": {
           "format": "0.[000]",
           "readOnly": false,
           "renderer": null,
           "source": null,
           "style": {
            "fontWeight": "bold"
           },
           "type": "text"
          },
          "value": "amount(EUR):"
         },
         {
          "options": {
           "format": "0.[000]",
           "readOnly": false,
           "renderer": null,
           "source": null,
           "style": {},
           "type": "numeric"
          },
          "value": 100
         }
        ],
        [
         {
          "options": {},
          "value": null
         },
         {
          "options": {},
          "value": null
         }
        ],
        [
         {
          "options": {
           "format": "0.[000]",
           "readOnly": false,
           "renderer": null,
           "source": null,
           "style": {},
           "type": "text"
          },
          "value": "year 1"
         },
         {
          "options": {
           "format": "0.[000]",
           "readOnly": false,
           "renderer": null,
           "source": null,
           "style": {},
           "type": "numeric"
          },
          "value": 0
         }
        ],
        [
         {
          "options": {
           "format": "0.[000]",
           "readOnly": false,
           "renderer": null,
           "source": null,
           "style": {},
           "type": "text"
          },
          "value": "year 2"
         },
         {
          "options": {
           "format": "0.[000]",
           "readOnly": false,
           "renderer": null,
           "source": null,
           "style": {},
           "type": "numeric"
          },
          "value": 0
         }
        ],
        [
         {
          "options": {
           "format": "0.[000]",
           "readOnly": false,
           "renderer": null,
           "source": null,
           "style": {},
           "type": "text"
          },
          "value": "year 3"
         },
         {
          "options": {
           "format": "0.[000]",
           "readOnly": false,
           "renderer": null,
           "source": null,
           "style": {},
           "type": "numeric"
          },
          "value": 0
         }
        ],
        [
         {
          "options": {
           "format": "0.[000]",
           "readOnly": false,
           "renderer": null,
           "source": null,
           "style": {},
           "type": "text"
          },
          "value": "year 4"
         },
         {
          "options": {
           "format": "0.[000]",
           "readOnly": false,
           "renderer": null,
           "source": null,
           "style": {},
           "type": "numeric"
          },
          "value": 0
         }
        ],
        [
         {
          "options": {
           "format": "0.[000]",
           "readOnly": false,
           "renderer": null,
           "source": null,
           "style": {},
           "type": "text"
          },
          "value": "year 5"
         },
         {
          "options": {
           "format": "0.[000]",
           "readOnly": false,
           "renderer": null,
           "source": null,
           "style": {},
           "type": "numeric"
          },
          "value": 0
         }
        ],
        [
         {
          "options": {
           "format": "0.[000]",
           "readOnly": false,
           "renderer": null,
           "source": null,
           "style": {},
           "type": "text"
          },
          "value": "year 6"
         },
         {
          "options": {
           "format": "0.[000]",
           "readOnly": false,
           "renderer": null,
           "source": null,
           "style": {},
           "type": "numeric"
          },
          "value": 0
         }
        ],
        [
         {
          "options": {
           "format": "0.[000]",
           "readOnly": false,
           "renderer": null,
           "source": null,
           "style": {},
           "type": "text"
          },
          "value": "year 7"
         },
         {
          "options": {
           "format": "0.[000]",
           "readOnly": false,
           "renderer": null,
           "source": null,
           "style": {},
           "type": "numeric"
          },
          "value": 0
         }
        ],
        [
         {
          "options": {
           "format": "0.[000]",
           "readOnly": false,
           "renderer": null,
           "source": null,
           "style": {},
           "type": "text"
          },
          "value": "year 8"
         },
         {
          "options": {
           "format": "0.[000]",
           "readOnly": false,
           "renderer": null,
           "source": null,
           "style": {},
           "type": "numeric"
          },
          "value": 0
         }
        ],
        [
         {
          "options": {
           "format": "0.[000]",
           "readOnly": false,
           "renderer": null,
           "source": null,
           "style": {},
           "type": "text"
          },
          "value": "year 9"
         },
         {
          "options": {
           "format": "0.[000]",
           "readOnly": false,
           "renderer": null,
           "source": null,
           "style": {},
           "type": "numeric"
          },
          "value": 0
         }
        ],
        [
         {
          "options": {
           "format": "0.[000]",
           "readOnly": false,
           "renderer": null,
           "source": null,
           "style": {},
           "type": "text"
          },
          "value": "year 10"
         },
         {
          "options": {
           "format": "0.[000]",
           "readOnly": false,
           "renderer": null,
           "source": null,
           "style": {},
           "type": "numeric"
          },
          "value": 0
         }
        ]
       ],
       "layout": "IPY_MODEL_2eaa284c53aa4a19bf7726699f2c5f0f",
       "rows": 13,
       "stretch_headers": "none"
      }
     },
     "ada5e890f60349f493cdcb5c33d1835c": {
      "model_module": "ipysheet",
      "model_module_version": "^0.1.0",
      "model_name": "CellModel",
      "state": {
       "_model_module_version": "^0.1.0",
       "_view_module": null,
       "_view_module_version": "",
       "column": 0,
       "format": "0.000",
       "row": 0,
       "style": {
        "backgroundColor": "orange"
       },
       "type": "numeric",
       "value": 10.123
      }
     },
     "ae09f76f926a4fcb9db0829c9bed887f": {
      "model_module": "ipysheet",
      "model_module_version": "^0.1.0",
      "model_name": "CellModel",
      "state": {
       "_model_module_version": "^0.1.0",
       "_view_module": null,
       "_view_module_version": "",
       "row": 2,
       "style": {
        "backgroundColor": "orange"
       },
       "type": "numeric",
       "value": 5
      }
     },
     "ae5f7c4293604ca79a92c392abc7249d": {
      "model_module": "ipysheet",
      "model_module_version": "^0.1.0",
      "model_name": "CellModel",
      "state": {
       "_model_module_version": "^0.1.0",
       "_view_module": null,
       "_view_module_version": "",
       "column": 0,
       "row": 0,
       "style": {
        "fontWeight": "bold"
       },
       "type": "text",
       "value": "a"
      }
     },
     "afba3f41a51e4bd3ad9af7e3f88ef1e5": {
      "model_module": "ipysheet",
      "model_module_version": "^0.1.0",
      "model_name": "CellModel",
      "state": {
       "_model_module_version": "^0.1.0",
       "_view_module": null,
       "_view_module_version": "",
       "row": 5,
       "type": "numeric",
       "value": 112.4864
      }
     },
     "b0347fa8b955446fba0ed3d0d59d984c": {
      "model_module": "ipysheet",
      "model_module_version": "^0.1.0",
      "model_name": "CellModel",
      "state": {
       "_model_module_version": "^0.1.0",
       "_view_module": null,
       "_view_module_version": "",
       "column": 0,
       "read_only": true,
       "type": "numeric",
       "value": 999
      }
     },
     "b0716c7415504b139131e27f26bcc7fd": {
      "model_module": "ipysheet",
      "model_module_version": "^0.1.0",
      "model_name": "CellModel",
      "state": {
       "_model_module_version": "^0.1.0",
       "_view_module": null,
       "_view_module_version": "",
       "row": 2,
       "style": {
        "backgroundColor": "orange"
       },
       "type": "numeric",
       "value": 5
      }
     },
     "b15bff9ae25648cb9c472a74d7c516bf": {
      "model_module": "ipysheet",
      "model_module_version": "^0.1.0",
      "model_name": "CellModel",
      "state": {
       "_model_module_version": "^0.1.0",
       "_view_module": null,
       "_view_module_version": "",
       "type": "numeric",
       "value": 100
      }
     },
     "b27210def1d14fffad8f6a8e9520e30c": {
      "model_module": "ipysheet",
      "model_module_version": "^0.1.0",
      "model_name": "CellModel",
      "state": {
       "_model_module_version": "^0.1.0",
       "_view_module": null,
       "_view_module_version": "",
       "column": 2,
       "row": 0,
       "style": {
        "textAlign": "center"
       },
       "type": "checkbox",
       "value": false
      }
     },
     "b35c3cf9005941669caf6e2ccd0b051f": {
      "model_module": "ipysheet",
      "model_module_version": "^0.1.0",
      "model_name": "CellModel",
      "state": {
       "_model_module_version": "^0.1.0",
       "_view_module": null,
       "_view_module_version": "",
       "row": 10,
       "type": "numeric",
       "value": 0
      }
     },
     "b3f433e4434e4971b8164cfb9800708a": {
      "model_module": "@jupyter-widgets/controls",
      "model_module_version": "1.1.0",
      "model_name": "SliderStyleModel",
      "state": {
       "description_width": ""
      }
     },
     "b6126b4bfae74d97a7339db45fde6dd8": {
      "model_module": "ipysheet",
      "model_module_version": "^0.1.0",
      "model_name": "CellModel",
      "state": {
       "_model_module_version": "^0.1.0",
       "_view_module": null,
       "_view_module_version": "",
       "column": 0,
       "row": 3,
       "type": "text",
       "value": "year 1"
      }
     },
     "b7485320f87241ce84215430081825f1": {
      "model_module": "ipysheet",
      "model_module_version": "^0.1.0",
      "model_name": "CellModel",
      "state": {
       "_model_module_version": "^0.1.0",
       "_view_module": null,
       "_view_module_version": "",
       "column": 0,
       "row": 12,
       "type": "text",
       "value": "year 10"
      }
     },
     "b8402448efee4ecf97fd149c1f786720": {
      "model_module": "ipysheet",
      "model_module_version": "^0.1.0",
      "model_name": "CellModel",
      "state": {
       "_model_module_version": "^0.1.0",
       "_view_module": null,
       "_view_module_version": "",
       "column": 0,
       "row": 11,
       "type": "text",
       "value": "year 9"
      }
     },
     "b878304a782b47e4aeca82261038d800": {
      "model_module": "ipysheet",
      "model_module_version": "^0.1.0",
      "model_name": "CellModel",
      "state": {
       "_model_module_version": "^0.1.0",
       "_view_module": null,
       "_view_module_version": "",
       "column": 0,
       "row": 3,
       "type": "text",
       "value": "year 1"
      }
     },
     "ba37e29b70404b48bf145e08f9a21e76": {
      "model_module": "ipysheet",
      "model_module_version": "^0.1.0",
      "model_name": "SheetModel",
      "state": {
       "_model_module_version": "^0.1.0",
       "_view_module_version": "^0.1.0",
       "cells": [
        "IPY_MODEL_edd3b37c0e744e50ae2c13ad4d657c01",
        "IPY_MODEL_d1921bf0a1004f5d9d1f12bad8d54317",
        "IPY_MODEL_4d3855ee993c43b69b7d1e1b859eea8b",
        "IPY_MODEL_ceb9bcbb42494705a064bf107e211527",
        "IPY_MODEL_b0716c7415504b139131e27f26bcc7fd",
        "IPY_MODEL_52b780164e344d588ee022b73b9b9f93"
       ],
       "column_headers": false,
       "columns": 2,
       "data": [
        [
         {
          "options": {
           "format": "0.[000]",
           "readOnly": false,
           "renderer": null,
           "source": null,
           "style": {
            "fontWeight": "bold"
           },
           "type": "text"
          },
          "value": "a"
         },
         {
          "options": {
           "format": "0.[000]",
           "readOnly": false,
           "renderer": null,
           "source": null,
           "style": {
            "color": "green"
           },
           "type": "numeric"
          },
          "value": 2
         }
        ],
        [
         {
          "options": {
           "format": "0.[000]",
           "readOnly": false,
           "renderer": null,
           "source": null,
           "style": {
            "fontWeight": "bold"
           },
           "type": "text"
          },
          "value": "b"
         },
         {
          "options": {
           "format": "0.[000]",
           "readOnly": false,
           "renderer": null,
           "source": null,
           "style": {
            "color": "blue"
           },
           "type": "numeric"
          },
          "value": 3
         }
        ],
        [
         {
          "options": {
           "format": "0.[000]",
           "readOnly": false,
           "renderer": null,
           "source": null,
           "style": {
            "fontWeight": "bold"
           },
           "type": "text"
          },
          "value": "sum"
         },
         {
          "options": {
           "format": "0.[000]",
           "readOnly": false,
           "renderer": null,
           "source": null,
           "style": {
            "backgroundColor": "orange"
           },
           "type": "numeric"
          },
          "value": 5
         }
        ]
       ],
       "layout": "IPY_MODEL_029db86c57cf4a22b7a0ce2874435140",
       "row_headers": false
      }
     },
     "ba757ec00c544af580f2e027c6222397": {
      "model_module": "ipysheet",
      "model_module_version": "^0.1.0",
      "model_name": "CellModel",
      "state": {
       "_model_module_version": "^0.1.0",
       "_view_module": null,
       "_view_module_version": "",
       "column": 0,
       "row": 5,
       "type": "text",
       "value": "year 3"
      }
     },
     "ba899f9054f941619f4aab2f4fda9fc5": {
      "model_module": "ipysheet",
      "model_module_version": "^0.1.0",
      "model_name": "CellModel",
      "state": {
       "_model_module_version": "^0.1.0",
       "_view_module": null,
       "_view_module_version": "",
       "column": 0,
       "row": 6,
       "type": "text",
       "value": "year 4"
      }
     },
     "baf0d28cd2f948c08af734e27514e654": {
      "model_module": "ipysheet",
      "model_module_version": "^0.1.0",
      "model_name": "CellModel",
      "state": {
       "_model_module_version": "^0.1.0",
       "_view_module": null,
       "_view_module_version": "",
       "column": 0,
       "format": "0.000",
       "row": 0,
       "style": {
        "backgroundColor": "lightblue",
        "fontWeight": "bold"
       },
       "type": "numeric",
       "value": 20
      }
     },
     "bb4d5ae8cb764504acddec7513d2c77e": {
      "model_module": "ipysheet",
      "model_module_version": "^0.1.0",
      "model_name": "CellModel",
      "state": {
       "_model_module_version": "^0.1.0",
       "_view_module": null,
       "_view_module_version": "",
       "column": 2,
       "row": 0,
       "style": {
        "textAlign": "center"
       },
       "type": "checkbox",
       "value": false
      }
     },
     "bb9949df3bb846469dcb0f93622efd60": {
      "model_module": "ipysheet",
      "model_module_version": "^0.1.0",
      "model_name": "CellModel",
      "state": {
       "_model_module_version": "^0.1.0",
       "_view_module": null,
       "_view_module_version": "",
       "column": 0,
       "format": "0.000",
       "row": 0,
       "style": {
        "backgroundColor": "orange"
       },
       "type": "numeric",
       "value": 20
      }
     },
     "bc2f4c6acdab46ecbc78c0c849de8b1e": {
      "model_module": "ipysheet",
      "model_module_version": "^0.1.0",
      "model_name": "CellModel",
      "state": {
       "_model_module_version": "^0.1.0",
       "_view_module": null,
       "_view_module_version": "",
       "column": 0,
       "style": {
        "fontWeight": "bold"
       },
       "type": "text",
       "value": "b"
      }
     },
     "bde62a27ac754046bb95ceab6748b649": {
      "model_module": "ipysheet",
      "model_module_version": "^0.1.0",
      "model_name": "CellModel",
      "state": {
       "_model_module_version": "^0.1.0",
       "_view_module": null,
       "_view_module_version": "",
       "column": 0,
       "row": 2,
       "style": {
        "fontWeight": "bold"
       },
       "type": "text",
       "value": "sum"
      }
     },
     "be38b7e60a604b3e8da883bf13f82b23": {
      "model_module": "ipysheet",
      "model_module_version": "^0.1.0",
      "model_name": "CellModel",
      "state": {
       "_model_module_version": "^0.1.0",
       "_view_module": null,
       "_view_module_version": "",
       "style": {
        "color": "blue"
       },
       "type": "numeric",
       "value": 3
      }
     },
     "beb0104ffc1940dda5ef265ef1089c62": {
      "model_module": "ipysheet",
      "model_module_version": "^0.1.0",
      "model_name": "CellModel",
      "state": {
       "_model_module_version": "^0.1.0",
       "_view_module": null,
       "_view_module_version": "",
       "style": {
        "color": "blue"
       },
       "type": "numeric",
       "value": 35.1
      }
     },
     "bf96effaea9643188f749fdade7032bb": {
      "model_module": "ipysheet",
      "model_module_version": "^0.1.0",
      "model_name": "CellModel",
      "state": {
       "_model_module_version": "^0.1.0",
       "_view_module": null,
       "_view_module_version": "",
       "row": 0,
       "style": {
        "color": "green"
       },
       "type": "numeric",
       "value": 2
      }
     },
     "bfa90b792f71475193e811e0a20f446b": {
      "model_module": "ipysheet",
      "model_module_version": "^0.1.0",
      "model_name": "CellModel",
      "state": {
       "_model_module_version": "^0.1.0",
       "_view_module": null,
       "_view_module_version": "",
       "row": 3,
       "type": "numeric",
       "value": 104
      }
     },
     "c41dec9ae97e4611964dd3cb36ced5dc": {
      "model_module": "@jupyter-widgets/controls",
      "model_module_version": "1.1.0",
      "model_name": "LinkModel",
      "state": {
       "source": [
        "IPY_MODEL_beb0104ffc1940dda5ef265ef1089c62",
        "value"
       ],
       "target": [
        "IPY_MODEL_9101e9b7c18e407cb9d8b1cdf4362a7c",
        "value"
       ]
      }
     },
     "c438c56e8328484cab4f97cdb78cafe2": {
      "model_module": "ipysheet",
      "model_module_version": "^0.1.0",
      "model_name": "CellModel",
      "state": {
       "_model_module_version": "^0.1.0",
       "_view_module": null,
       "_view_module_version": "",
       "column": 0,
       "row": 10,
       "type": "text",
       "value": "year 8"
      }
     },
     "c5ffcb8c2daa4c3796bdc981f11e2116": {
      "model_module": "ipysheet",
      "model_module_version": "^0.1.0",
      "model_name": "CellModel",
      "state": {
       "_model_module_version": "^0.1.0",
       "_view_module": null,
       "_view_module_version": "",
       "style": {
        "color": "blue"
       },
       "type": "numeric",
       "value": 3
      }
     },
     "c69503bc145a484eb9f9eea88d7b388d": {
      "model_module": "ipysheet",
      "model_module_version": "^0.1.0",
      "model_name": "SheetModel",
      "state": {
       "_model_module_version": "^0.1.0",
       "_view_module_version": "^0.1.0",
       "cells": [
        "IPY_MODEL_33fd037ddb0b4a2faf6f89c0ead0422f",
        "IPY_MODEL_6c557e8161254371a9d7ba21d441b584",
        "IPY_MODEL_83423438f6324ba48272cc98dab13273",
        "IPY_MODEL_2624b0df99a141e5a7eaec993b04bdcc",
        "IPY_MODEL_0bed0448e5824ff0aef6fa44519ad0d4",
        "IPY_MODEL_a73fcbbe66bc4459ad6112b972349e2d"
       ],
       "column_headers": false,
       "column_width": [
        100,
        150
       ],
       "columns": 2,
       "data": [
        [
         {
          "options": {
           "format": "0.[000]",
           "readOnly": false,
           "renderer": null,
           "source": null,
           "style": {
            "fontWeight": "bold"
           },
           "type": "text"
          },
          "value": "a"
         },
         {
          "options": {
           "format": "0.[000]",
           "readOnly": false,
           "renderer": null,
           "source": null,
           "style": {
            "color": "green"
           },
           "type": "numeric"
          },
          "value": 5
         }
        ],
        [
         {
          "options": {
           "format": "0.[000]",
           "readOnly": false,
           "renderer": null,
           "source": null,
           "style": {
            "fontWeight": "bold"
           },
           "type": "text"
          },
          "value": "b"
         },
         {
          "options": {
           "format": "0.[000]",
           "readOnly": false,
           "renderer": null,
           "source": null,
           "style": {
            "color": "blue"
           },
           "type": "numeric"
          },
          "value": 56
         }
        ],
        [
         {
          "options": {
           "format": "0.[000]",
           "readOnly": false,
           "renderer": null,
           "source": null,
           "style": {
            "fontWeight": "bold"
           },
           "type": "text"
          },
          "value": "sum"
         },
         {
          "options": {
           "format": "0.[000]",
           "readOnly": false,
           "renderer": null,
           "source": null,
           "style": {
            "backgroundColor": "orange"
           },
           "type": "numeric"
          },
          "value": 61
         }
        ]
       ],
       "layout": "IPY_MODEL_d35a6d54817f423fad806ee226611bb8",
       "row_headers": false,
       "stretch_headers": "none"
      }
     },
     "c9b5f6d4509b4bd7b99df0653f25b38a": {
      "model_module": "ipysheet",
      "model_module_version": "^0.1.0",
      "model_name": "SheetModel",
      "state": {
       "_model_module_version": "^0.1.0",
       "_view_module_version": "^0.1.0",
       "cells": [
        "IPY_MODEL_152253b5b6a64c1d9e6457f5ec264f03",
        "IPY_MODEL_01b555ffb2294d909d0b6a09dcec0be3",
        "IPY_MODEL_ada5e890f60349f493cdcb5c33d1835c",
        "IPY_MODEL_b0347fa8b955446fba0ed3d0d59d984c",
        "IPY_MODEL_4c7b4302925c4d0d9a6eb27e7a8b204d"
       ],
       "column_headers": [
        "0",
        "1",
        "2",
        "xyz"
       ],
       "data": [
        [
         {
          "options": {
           "format": "0.000",
           "readOnly": false,
           "renderer": null,
           "source": null,
           "style": {
            "backgroundColor": "orange"
           },
           "type": "numeric"
          },
          "value": 10.123
         },
         {
          "options": {},
          "value": null
         },
         {
          "options": {},
          "value": null
         },
         {
          "options": {},
          "value": null
         }
        ],
        [
         {
          "options": {
           "format": "0.[000]",
           "readOnly": true,
           "renderer": null,
           "source": null,
           "style": {},
           "type": "numeric"
          },
          "value": 999
         },
         {
          "options": {},
          "value": null
         },
         {
          "options": {},
          "value": null
         },
         {
          "options": {},
          "value": null
         }
        ],
        [
         {
          "options": {},
          "value": null
         },
         {
          "options": {},
          "value": null
         },
         {
          "options": {},
          "value": null
         },
         {
          "options": {},
          "value": null
         }
        ]
       ],
       "layout": "IPY_MODEL_10179954763a404dbb95ff8798097938",
       "row_headers": [
        "x",
        "y",
        ""
       ],
       "stretch_headers": "none"
      }
     },
     "c9d09d73ea474fddb3ab5525ff31b4d4": {
      "model_module": "ipysheet",
      "model_module_version": "^0.1.0",
      "model_name": "CellModel",
      "state": {
       "_model_module_version": "^0.1.0",
       "_view_module": null,
       "_view_module_version": "",
       "style": {
        "color": "blue"
       },
       "type": "numeric",
       "value": 57.2
      }
     },
     "cc6852cc66de492397f15e83474603e8": {
      "model_module": "ipysheet",
      "model_module_version": "^0.1.0",
      "model_name": "CellModel",
      "state": {
       "_model_module_version": "^0.1.0",
       "_view_module": null,
       "_view_module_version": "",
       "column": 0,
       "row": 2,
       "style": {
        "fontWeight": "bold"
       },
       "type": "text",
       "value": "sum"
      }
     },
     "cd22edca53234b48a19edf19bc210f96": {
      "model_module": "ipysheet",
      "model_module_version": "^0.1.0",
      "model_name": "CellModel",
      "state": {
       "_model_module_version": "^0.1.0",
       "_view_module": null,
       "_view_module_version": "",
       "read_only": true,
       "row": 0,
       "type": "numeric",
       "value": 2
      }
     },
     "ceb9bcbb42494705a064bf107e211527": {
      "model_module": "ipysheet",
      "model_module_version": "^0.1.0",
      "model_name": "CellModel",
      "state": {
       "_model_module_version": "^0.1.0",
       "_view_module": null,
       "_view_module_version": "",
       "column": 0,
       "style": {
        "fontWeight": "bold"
       },
       "type": "text",
       "value": "b"
      }
     },
     "d0d7869537044ae1b1541e4753ce6e96": {
      "model_module": "ipysheet",
      "model_module_version": "^0.1.0",
      "model_name": "CellModel",
      "state": {
       "_model_module_version": "^0.1.0",
       "_view_module": null,
       "_view_module_version": "",
       "row": 2,
       "style": {
        "backgroundColor": "orange"
       },
       "type": "numeric",
       "value": 5
      }
     },
     "d181cc76193e4dca90bd0518b6bca144": {
      "model_module": "@jupyter-widgets/controls",
      "model_module_version": "1.1.0",
      "model_name": "SliderStyleModel",
      "state": {
       "description_width": ""
      }
     },
     "d1921bf0a1004f5d9d1f12bad8d54317": {
      "model_module": "ipysheet",
      "model_module_version": "^0.1.0",
      "model_name": "CellModel",
      "state": {
       "_model_module_version": "^0.1.0",
       "_view_module": null,
       "_view_module_version": "",
       "column": 0,
       "row": 0,
       "style": {
        "fontWeight": "bold"
       },
       "type": "text",
       "value": "a"
      }
     },
     "d195b38afc5b4681be808d63518394f9": {
      "model_module": "@jupyter-widgets/base",
      "model_module_version": "1.0.0",
      "model_name": "LayoutModel",
      "state": {}
     },
     "d201b2b0d95747ed84862ad7832a631d": {
      "model_module": "ipysheet",
      "model_module_version": "^0.1.0",
      "model_name": "CellModel",
      "state": {
       "_model_module_version": "^0.1.0",
       "_view_module": null,
       "_view_module_version": "",
       "column": 0,
       "style": {
        "fontWeight": "bold"
       },
       "type": "text",
       "value": "b"
      }
     },
     "d2f6aca8c3184876bbfff94e3cc072f1": {
      "model_module": "ipysheet",
      "model_module_version": "^0.1.0",
      "model_name": "SheetModel",
      "state": {
       "_model_module_version": "^0.1.0",
       "_view_module_version": "^0.1.0",
       "cells": [
        "IPY_MODEL_89c51b32210945cf87f4bb6192c9ca2b",
        "IPY_MODEL_37ad2c4081ce4651aff8734bcfb2e760",
        "IPY_MODEL_02ab59c8658944669b69dc68bcce2b6b",
        "IPY_MODEL_4094098c96f34915a7e05c590a8f0952",
        "IPY_MODEL_d0d7869537044ae1b1541e4753ce6e96",
        "IPY_MODEL_8c8b673083034278a098f13302775b89"
       ],
       "column_headers": false,
       "column_width": [
        150,
        150
       ],
       "columns": 2,
       "data": [
        [
         {
          "options": {
           "format": "0.[000]",
           "readOnly": false,
           "renderer": null,
           "source": null,
           "style": {
            "fontWeight": "bold"
           },
           "type": "text"
          },
          "value": "a"
         },
         {
          "options": {
           "format": "0.[000]",
           "readOnly": false,
           "renderer": null,
           "source": null,
           "style": {
            "color": "green"
           },
           "type": "numeric"
          },
          "value": 2
         }
        ],
        [
         {
          "options": {
           "format": "0.[000]",
           "readOnly": false,
           "renderer": null,
           "source": null,
           "style": {
            "fontWeight": "bold"
           },
           "type": "text"
          },
          "value": "b"
         },
         {
          "options": {
           "format": "0.[000]",
           "readOnly": false,
           "renderer": null,
           "source": null,
           "style": {
            "color": "blue"
           },
           "type": "numeric"
          },
          "value": 3
         }
        ],
        [
         {
          "options": {
           "format": "0.[000]",
           "readOnly": false,
           "renderer": null,
           "source": null,
           "style": {
            "fontWeight": "bold"
           },
           "type": "text"
          },
          "value": "sum"
         },
         {
          "options": {
           "format": "0.[000]",
           "readOnly": false,
           "renderer": null,
           "source": null,
           "style": {
            "backgroundColor": "orange"
           },
           "type": "numeric"
          },
          "value": 5
         }
        ]
       ],
       "layout": "IPY_MODEL_9b000710b34f453b8feabb6710275049",
       "row_headers": false
      }
     },
     "d35a6d54817f423fad806ee226611bb8": {
      "model_module": "@jupyter-widgets/base",
      "model_module_version": "1.0.0",
      "model_name": "LayoutModel",
      "state": {}
     },
     "d38171b79dc2482b85f88daffb95830a": {
      "model_module": "ipysheet",
      "model_module_version": "^0.1.0",
      "model_name": "CellModel",
      "state": {
       "_model_module_version": "^0.1.0",
       "_view_module": null,
       "_view_module_version": "",
       "type": "numeric",
       "value": 100
      }
     },
     "d3fc368e582140f8aa5a5d3c40036287": {
      "model_module": "@jupyter-widgets/base",
      "model_module_version": "1.0.0",
      "model_name": "LayoutModel",
      "state": {}
     },
     "d54d04a386d641ac87d903b5014430a9": {
      "model_module": "@jupyter-widgets/base",
      "model_module_version": "1.0.0",
      "model_name": "LayoutModel",
      "state": {}
     },
     "d5c467a4a0d14a0d9b4916d6720828f3": {
      "model_module": "ipysheet",
      "model_module_version": "^0.1.0",
      "model_name": "CellModel",
      "state": {
       "_model_module_version": "^0.1.0",
       "_view_module": null,
       "_view_module_version": "",
       "column": 0,
       "style": {
        "fontWeight": "bold"
       },
       "type": "text",
       "value": "b"
      }
     },
     "d6b67b4f5b2f42f989a654ca4f114c3d": {
      "model_module": "ipysheet",
      "model_module_version": "^0.1.0",
      "model_name": "CellModel",
      "state": {
       "_model_module_version": "^0.1.0",
       "_view_module": null,
       "_view_module_version": "",
       "row": 3,
       "type": "numeric",
       "value": 102
      }
     },
     "dbd9b2eecf194606aaa505e3d83a4ee0": {
      "model_module": "@jupyter-widgets/base",
      "model_module_version": "1.0.0",
      "model_name": "LayoutModel",
      "state": {}
     },
     "dee711e13192426f935b6e5bc55b0a03": {
      "model_module": "ipysheet",
      "model_module_version": "^0.1.0",
      "model_name": "CellModel",
      "state": {
       "_model_module_version": "^0.1.0",
       "_view_module": null,
       "_view_module_version": "",
       "column": 0,
       "row": 8,
       "type": "text",
       "value": "year 6"
      }
     },
     "e3458605454f4d5089e755d63e7f29a9": {
      "model_module": "ipysheet",
      "model_module_version": "^0.1.0",
      "model_name": "CellModel",
      "state": {
       "_model_module_version": "^0.1.0",
       "_view_module": null,
       "_view_module_version": "",
       "column": 0,
       "row": 3,
       "type": "text",
       "value": "year 1"
      }
     },
     "e39525ef533b48d78224f1b6de2983ce": {
      "model_module": "ipysheet",
      "model_module_version": "^0.1.0",
      "model_name": "CellModel",
      "state": {
       "_model_module_version": "^0.1.0",
       "_view_module": null,
       "_view_module_version": "",
       "row": 8,
       "type": "numeric",
       "value": 126.53190184960002
      }
     },
     "e513d91d8ee24f78a5856087ce72bf0a": {
      "model_module": "ipysheet",
      "model_module_version": "^0.1.0",
      "model_name": "CellModel",
      "state": {
       "_model_module_version": "^0.1.0",
       "_view_module": null,
       "_view_module_version": "",
       "column": 0,
       "row": 8,
       "type": "text",
       "value": "year 6"
      }
     },
     "e677acf4d7bf4821a37714977d162cde": {
      "model_module": "@jupyter-widgets/controls",
      "model_module_version": "1.1.0",
      "model_name": "FloatSliderModel",
      "state": {
       "layout": "IPY_MODEL_0fd7c6240cc441f197b801c770c98fff",
       "step": 0.1,
       "style": "IPY_MODEL_f885cb3d62604516884b38cf2a901cad",
       "value": 38.4
      }
     },
     "e724f7ca1a4f4e46b4648b8bca53f4f0": {
      "model_module": "ipysheet",
      "model_module_version": "^0.1.0",
      "model_name": "CellModel",
      "state": {
       "_model_module_version": "^0.1.0",
       "_view_module": null,
       "_view_module_version": "",
       "column": 0,
       "style": {
        "fontWeight": "bold"
       },
       "type": "text",
       "value": "b"
      }
     },
     "e7978e0a967340ebb295ccec8d51fa64": {
      "model_module": "ipysheet",
      "model_module_version": "^0.1.0",
      "model_name": "CellModel",
      "state": {
       "_model_module_version": "^0.1.0",
       "_view_module": null,
       "_view_module_version": "",
       "row": 11,
       "type": "numeric",
       "value": 119.5092568622311
      }
     },
     "ec08c086a9bf49d5b8ee033dc8e63d92": {
      "model_module": "ipysheet",
      "model_module_version": "^0.1.0",
      "model_name": "CellModel",
      "state": {
       "_model_module_version": "^0.1.0",
       "_view_module": null,
       "_view_module_version": "",
       "column": 2,
       "row": 0,
       "style": {
        "textAlign": "center"
       },
       "type": "checkbox",
       "value": false
      }
     },
     "edd3b37c0e744e50ae2c13ad4d657c01": {
      "model_module": "ipysheet",
      "model_module_version": "^0.1.0",
      "model_name": "CellModel",
      "state": {
       "_model_module_version": "^0.1.0",
       "_view_module": null,
       "_view_module_version": "",
       "row": 0,
       "style": {
        "color": "green"
       },
       "type": "numeric",
       "value": 2
      }
     },
     "ee9b7698636b4ae4a842304c1bba3db9": {
      "model_module": "ipysheet",
      "model_module_version": "^0.1.0",
      "model_name": "CellModel",
      "state": {
       "_model_module_version": "^0.1.0",
       "_view_module": null,
       "_view_module_version": "",
       "row": 7,
       "type": "numeric",
       "value": 0
      }
     },
     "f057f29396c14f3ab6a652c644ca0471": {
      "model_module": "ipysheet",
      "model_module_version": "^0.1.0",
      "model_name": "SheetModel",
      "state": {
       "_model_module_version": "^0.1.0",
       "_view_module_version": "^0.1.0",
       "cells": [
        "IPY_MODEL_376a25107b874a87baea5bfac1f82517",
        "IPY_MODEL_3df5b89e75d24f8ab2dce2b569e5c7c0",
        "IPY_MODEL_c9d09d73ea474fddb3ab5525ff31b4d4",
        "IPY_MODEL_e724f7ca1a4f4e46b4648b8bca53f4f0",
        "IPY_MODEL_3fa4953f29fb42dea071c7751a9b35dc",
        "IPY_MODEL_6e8a120293b64f99b57abed260398cf7"
       ],
       "column_headers": false,
       "column_width": [
        100,
        150
       ],
       "columns": 2,
       "data": [
        [
         {
          "options": {
           "format": "0.[000]",
           "readOnly": false,
           "renderer": null,
           "source": null,
           "style": {
            "fontWeight": "bold"
           },
           "type": "text"
          },
          "value": "a"
         },
         {
          "options": {
           "format": "0.[000]",
           "readOnly": false,
           "renderer": null,
           "source": null,
           "style": {
            "color": "green"
           },
           "type": "numeric"
          },
          "value": 5
         }
        ],
        [
         {
          "options": {
           "format": "0.[000]",
           "readOnly": false,
           "renderer": null,
           "source": null,
           "style": {
            "fontWeight": "bold"
           },
           "type": "text"
          },
          "value": "b"
         },
         {
          "options": {
           "format": "0.[000]",
           "readOnly": false,
           "renderer": null,
           "source": null,
           "style": {
            "color": "blue"
           },
           "type": "numeric"
          },
          "value": 57.2
         }
        ],
        [
         {
          "options": {
           "format": "0.[000]",
           "readOnly": false,
           "renderer": null,
           "source": null,
           "style": {
            "fontWeight": "bold"
           },
           "type": "text"
          },
          "value": "sum"
         },
         {
          "options": {
           "format": "0.[000]",
           "readOnly": false,
           "renderer": null,
           "source": null,
           "style": {
            "backgroundColor": "salmon"
           },
           "type": "numeric"
          },
          "value": 62.2
         }
        ]
       ],
       "layout": "IPY_MODEL_d195b38afc5b4681be808d63518394f9",
       "row_headers": false,
       "stretch_headers": "none"
      }
     },
     "f090f1ddcf654a11ba0c8d031383b887": {
      "model_module": "ipysheet",
      "model_module_version": "^0.1.0",
      "model_name": "CellModel",
      "state": {
       "_model_module_version": "^0.1.0",
       "_view_module": null,
       "_view_module_version": "",
       "row": 0,
       "style": {
        "color": "green"
       },
       "type": "numeric",
       "value": 2
      }
     },
     "f50f739da4254f41ad5434f853456a38": {
      "model_module": "ipysheet",
      "model_module_version": "^0.1.0",
      "model_name": "CellModel",
      "state": {
       "_model_module_version": "^0.1.0",
       "_view_module": null,
       "_view_module_version": "",
       "column": 0,
       "row": 9,
       "type": "text",
       "value": "year 7"
      }
     },
     "f6b3fe8feccb4028b04119fe646da1a6": {
      "model_module": "ipysheet",
      "model_module_version": "^0.1.0",
      "model_name": "CellModel",
      "state": {
       "_model_module_version": "^0.1.0",
       "_view_module": null,
       "_view_module_version": "",
       "read_only": true,
       "row": 0,
       "type": "numeric",
       "value": 40
      }
     },
     "f6d6daf3b9cb48d790b2520b484cade7": {
      "model_module": "ipysheet",
      "model_module_version": "^0.1.0",
      "model_name": "CellModel",
      "state": {
       "_model_module_version": "^0.1.0",
       "_view_module": null,
       "_view_module_version": "",
       "column": 0,
       "row": 6,
       "type": "text",
       "value": "year 4"
      }
     },
     "f885cb3d62604516884b38cf2a901cad": {
      "model_module": "@jupyter-widgets/controls",
      "model_module_version": "1.1.0",
      "model_name": "SliderStyleModel",
      "state": {
       "description_width": ""
      }
     },
     "f8944892719a43ee8344920e46530e3e": {
      "model_module": "@jupyter-widgets/controls",
      "model_module_version": "1.1.0",
      "model_name": "LinkModel",
      "state": {
       "source": [
        "IPY_MODEL_78b5f8c0fbda4802916c231d3470b6dd",
        "value"
       ],
       "target": [
        "IPY_MODEL_e677acf4d7bf4821a37714977d162cde",
        "value"
       ]
      }
     },
     "f9adbd16b08e45c8b99b6118235ed9e4": {
      "model_module": "@jupyter-widgets/controls",
      "model_module_version": "1.1.0",
      "model_name": "LinkModel",
      "state": {
       "source": [
        "IPY_MODEL_c9d09d73ea474fddb3ab5525ff31b4d4",
        "value"
       ],
       "target": [
        "IPY_MODEL_35971099bb99431484748a1172032af5",
        "value"
       ]
      }
     },
     "fb95a87579cf49c79ece2c4e8f1ec49d": {
      "model_module": "ipysheet",
      "model_module_version": "^0.1.0",
      "model_name": "SheetModel",
      "state": {
       "_model_module_version": "^0.1.0",
       "_view_module_version": "^0.1.0",
       "cells": [
        "IPY_MODEL_02a00fec27f04b269e29bdab3dd7ece3",
        "IPY_MODEL_aac74f2e0ea545c0b00a89a398867136",
        "IPY_MODEL_18265c03ce0d437a9ea304d22f9bbb91",
        "IPY_MODEL_8945a1cae71442debcfe770b02c5eb77",
        "IPY_MODEL_ae09f76f926a4fcb9db0829c9bed887f",
        "IPY_MODEL_564314e59dec4c5796d6376122f57f09"
       ],
       "column_headers": false,
       "column_width": [
        100,
        100
       ],
       "columns": 2,
       "data": [
        [
         {
          "options": {
           "format": "0.[000]",
           "readOnly": false,
           "renderer": null,
           "source": null,
           "style": {
            "fontWeight": "bold"
           },
           "type": "text"
          },
          "value": "a"
         },
         {
          "options": {
           "format": "0.[000]",
           "readOnly": false,
           "renderer": null,
           "source": null,
           "style": {
            "color": "green"
           },
           "type": "numeric"
          },
          "value": 2
         }
        ],
        [
         {
          "options": {
           "format": "0.[000]",
           "readOnly": false,
           "renderer": null,
           "source": null,
           "style": {
            "fontWeight": "bold"
           },
           "type": "text"
          },
          "value": "b"
         },
         {
          "options": {
           "format": "0.[000]",
           "readOnly": false,
           "renderer": null,
           "source": null,
           "style": {
            "color": "blue"
           },
           "type": "numeric"
          },
          "value": 3
         }
        ],
        [
         {
          "options": {
           "format": "0.[000]",
           "readOnly": false,
           "renderer": null,
           "source": null,
           "style": {
            "fontWeight": "bold"
           },
           "type": "text"
          },
          "value": "sum"
         },
         {
          "options": {
           "format": "0.[000]",
           "readOnly": false,
           "renderer": null,
           "source": null,
           "style": {
            "backgroundColor": "orange"
           },
           "type": "numeric"
          },
          "value": 5
         }
        ]
       ],
       "layout": "IPY_MODEL_fcdbb6e7855b455ea5c767caa31a48d2",
       "row_headers": false
      }
     },
     "fbc081259f1b451ba0235c62c2079aaa": {
      "model_module": "@jupyter-widgets/base",
      "model_module_version": "1.0.0",
      "model_name": "LayoutModel",
      "state": {}
     },
     "fcdbb6e7855b455ea5c767caa31a48d2": {
      "model_module": "@jupyter-widgets/base",
      "model_module_version": "1.0.0",
      "model_name": "LayoutModel",
      "state": {}
     },
     "fd9d300b56d84c4cb14316a1b5d1efc4": {
      "model_module": "ipysheet",
      "model_module_version": "^0.1.0",
      "model_name": "SheetModel",
      "state": {
       "_model_module_version": "^0.1.0",
       "_view_module_version": "^0.1.0",
       "cells": [
        "IPY_MODEL_baf0d28cd2f948c08af734e27514e654",
        "IPY_MODEL_90c6ddd0dab54b8a87b7224015f17096",
        "IPY_MODEL_ec08c086a9bf49d5b8ee033dc8e63d92",
        "IPY_MODEL_b27210def1d14fffad8f6a8e9520e30c"
       ],
       "column_headers": false,
       "data": [
        [
         {
          "options": {
           "format": "0.000",
           "readOnly": false,
           "renderer": null,
           "source": null,
           "style": {
            "backgroundColor": "lightblue",
            "fontWeight": "bold"
           },
           "type": "numeric"
          },
          "value": 20
         },
         {
          "options": {
           "format": "0.[000]",
           "readOnly": true,
           "renderer": null,
           "source": null,
           "style": {},
           "type": "numeric"
          },
          "value": 40
         },
         {
          "options": {
           "format": "0.[000]",
           "readOnly": false,
           "renderer": null,
           "source": null,
           "style": {
            "textAlign": "center"
           },
           "type": "checkbox"
          },
          "value": false
         },
         {
          "options": {},
          "value": null
         }
        ],
        [
         {
          "options": {},
          "value": null
         },
         {
          "options": {},
          "value": null
         },
         {
          "options": {},
          "value": null
         },
         {
          "options": {},
          "value": null
         }
        ],
        [
         {
          "options": {},
          "value": null
         },
         {
          "options": {},
          "value": null
         },
         {
          "options": {},
          "value": null
         },
         {
          "options": {},
          "value": null
         }
        ]
       ],
       "layout": "IPY_MODEL_6607084eeb8741a29ddd912466820d6c",
       "row_headers": [
        "x",
        "y",
        ""
       ],
       "stretch_headers": "none"
      }
     },
     "fff2ccfbf01c4af8bbefdfc0316bf42d": {
      "model_module": "ipysheet",
      "model_module_version": "^0.1.0",
      "model_name": "CellModel",
      "state": {
       "_model_module_version": "^0.1.0",
       "_view_module": null,
       "_view_module_version": "",
       "column": 0,
       "format": "0.000",
       "row": 0,
       "style": {
        "backgroundColor": "lightblue",
        "fontWeight": "bold"
       },
       "type": "numeric",
       "value": 1
      }
     }
    },
    "version_major": 2,
    "version_minor": 0
   }
  }
 },
 "nbformat": 4,
 "nbformat_minor": 2
}
